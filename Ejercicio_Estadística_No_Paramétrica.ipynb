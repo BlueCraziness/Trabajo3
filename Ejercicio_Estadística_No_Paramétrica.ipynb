{
  "nbformat": 4,
  "nbformat_minor": 0,
  "metadata": {
    "kernelspec": {
      "display_name": "R",
      "language": "R",
      "name": "ir"
    },
    "language_info": {
      "codemirror_mode": "r",
      "file_extension": ".r",
      "mimetype": "text/x-r-source",
      "name": "R",
      "pygments_lexer": "r",
      "version": "3.6.1"
    },
    "colab": {
      "name": "Ejercicio_estadística_no_paramétrica.ipynb",
      "provenance": []
    }
  },
  "cells": [
    {
      "cell_type": "markdown",
      "metadata": {
        "id": "T135cEist2Bu",
        "colab_type": "text"
      },
      "source": [
        "# Ejercicio\n",
        "\n",
        "Con base en los datos trabajados en el módulo de muestreo (archivo adjunto en el enlace) extraiga una muestra representativa (calcule el tamaño para un nivel de confianza de 89% y un error de 3% y use ese tamaño específico) \n",
        "1. Determine si la clasificación en niveles de desempeño en dos de las cinco competencias genéricas son producto del azar o no.\n",
        "\n",
        "2. Determine si esos resultados son independientes o dependientes entre sí.\n",
        "\n",
        "3. Con la muestra, calcule un promedio general por estudiante para las cinco competencias y realice un ranking inicial y un ranking final por departamento; determine si hubo cambios significativos en esa clasificación\n",
        "\n",
        "[Descargue el archivo aquí](https://www.dropbox.com/s/xgsf3l5gjw0h0q4/saberpro.RData?dl=1)"
      ]
    },
    {
      "cell_type": "markdown",
      "metadata": {
        "id": "W3DX_Lo9We4x",
        "colab_type": "text"
      },
      "source": [
        "## Importación de librerías"
      ]
    },
    {
      "cell_type": "code",
      "metadata": {
        "id": "3mN3802qrVoK",
        "colab_type": "code",
        "colab": {
          "base_uri": "https://localhost:8080/",
          "height": 364
        },
        "outputId": "2fc8f2f9-d36f-4799-e88e-c7865e9b92ab"
      },
      "source": [
        "library(devtools)\n",
        "install.packages('coin')\n",
        "install.packages('plyr')\n",
        "install.packages('samplingbook')\n",
        "install_github('DFJL/samplingUtil')\n",
        "install.packages(\"magrittr\")\n",
        "install.packages(\"dplyr\")"
      ],
      "execution_count": null,
      "outputs": [
        {
          "output_type": "stream",
          "text": [
            "Loading required package: usethis\n",
            "\n",
            "Installing package into ‘/usr/local/lib/R/site-library’\n",
            "(as ‘lib’ is unspecified)\n",
            "\n",
            "Installing package into ‘/usr/local/lib/R/site-library’\n",
            "(as ‘lib’ is unspecified)\n",
            "\n",
            "Installing package into ‘/usr/local/lib/R/site-library’\n",
            "(as ‘lib’ is unspecified)\n",
            "\n",
            "Skipping install of 'SamplingUtil' from a github remote, the SHA1 (e08400ca) has not changed since last install.\n",
            "  Use `force = TRUE` to force installation\n",
            "\n",
            "Installing package into ‘/usr/local/lib/R/site-library’\n",
            "(as ‘lib’ is unspecified)\n",
            "\n",
            "Installing package into ‘/usr/local/lib/R/site-library’\n",
            "(as ‘lib’ is unspecified)\n",
            "\n"
          ],
          "name": "stderr"
        }
      ]
    },
    {
      "cell_type": "code",
      "metadata": {
        "id": "ehuMLhjIWbXI",
        "colab_type": "code",
        "colab": {
          "base_uri": "https://localhost:8080/",
          "height": 1000
        },
        "outputId": "bf9ade40-df67-4968-c04c-c0421f0d809a"
      },
      "source": [
        "library(devtools)\n",
        "library(plyr)\n",
        "library(samplingbook) \n",
        "library(SamplingUtil)\n",
        "library(magrittr) \n",
        "library(dplyr) \n",
        "library(coin)\n",
        "library(tidyverse)"
      ],
      "execution_count": null,
      "outputs": [
        {
          "output_type": "stream",
          "text": [
            "Loading required package: pps\n",
            "\n",
            "Loading required package: sampling\n",
            "\n",
            "Loading required package: survey\n",
            "\n",
            "Loading required package: grid\n",
            "\n",
            "Loading required package: Matrix\n",
            "\n",
            "Loading required package: survival\n",
            "\n",
            "\n",
            "Attaching package: ‘survival’\n",
            "\n",
            "\n",
            "The following objects are masked from ‘package:sampling’:\n",
            "\n",
            "    cluster, strata\n",
            "\n",
            "\n",
            "\n",
            "Attaching package: ‘survey’\n",
            "\n",
            "\n",
            "The following object is masked from ‘package:graphics’:\n",
            "\n",
            "    dotchart\n",
            "\n",
            "\n",
            "\n",
            "Attaching package: ‘dplyr’\n",
            "\n",
            "\n",
            "The following objects are masked from ‘package:plyr’:\n",
            "\n",
            "    arrange, count, desc, failwith, id, mutate, rename, summarise,\n",
            "    summarize\n",
            "\n",
            "\n",
            "The following objects are masked from ‘package:stats’:\n",
            "\n",
            "    filter, lag\n",
            "\n",
            "\n",
            "The following objects are masked from ‘package:base’:\n",
            "\n",
            "    intersect, setdiff, setequal, union\n",
            "\n",
            "\n",
            "── \u001b[1mAttaching packages\u001b[22m ─────────────────────────────────────── tidyverse 1.3.0 ──\n",
            "\n",
            "\u001b[32m✔\u001b[39m \u001b[34mggplot2\u001b[39m 3.3.2     \u001b[32m✔\u001b[39m \u001b[34mpurrr  \u001b[39m 0.3.4\n",
            "\u001b[32m✔\u001b[39m \u001b[34mtibble \u001b[39m 3.0.3     \u001b[32m✔\u001b[39m \u001b[34mstringr\u001b[39m 1.4.0\n",
            "\u001b[32m✔\u001b[39m \u001b[34mtidyr  \u001b[39m 1.1.1     \u001b[32m✔\u001b[39m \u001b[34mforcats\u001b[39m 0.5.0\n",
            "\u001b[32m✔\u001b[39m \u001b[34mreadr  \u001b[39m 1.3.1     \n",
            "\n",
            "── \u001b[1mConflicts\u001b[22m ────────────────────────────────────────── tidyverse_conflicts() ──\n",
            "\u001b[31m✖\u001b[39m \u001b[34mdplyr\u001b[39m::\u001b[32marrange()\u001b[39m   masks \u001b[34mplyr\u001b[39m::arrange()\n",
            "\u001b[31m✖\u001b[39m \u001b[34mpurrr\u001b[39m::\u001b[32mcompact()\u001b[39m   masks \u001b[34mplyr\u001b[39m::compact()\n",
            "\u001b[31m✖\u001b[39m \u001b[34mdplyr\u001b[39m::\u001b[32mcount()\u001b[39m     masks \u001b[34mplyr\u001b[39m::count()\n",
            "\u001b[31m✖\u001b[39m \u001b[34mtidyr\u001b[39m::\u001b[32mexpand()\u001b[39m    masks \u001b[34mMatrix\u001b[39m::expand()\n",
            "\u001b[31m✖\u001b[39m \u001b[34mtidyr\u001b[39m::\u001b[32mextract()\u001b[39m   masks \u001b[34mmagrittr\u001b[39m::extract()\n",
            "\u001b[31m✖\u001b[39m \u001b[34mdplyr\u001b[39m::\u001b[32mfailwith()\u001b[39m  masks \u001b[34mplyr\u001b[39m::failwith()\n",
            "\u001b[31m✖\u001b[39m \u001b[34mdplyr\u001b[39m::\u001b[32mfilter()\u001b[39m    masks \u001b[34mstats\u001b[39m::filter()\n",
            "\u001b[31m✖\u001b[39m \u001b[34mdplyr\u001b[39m::\u001b[32mid()\u001b[39m        masks \u001b[34mplyr\u001b[39m::id()\n",
            "\u001b[31m✖\u001b[39m \u001b[34mdplyr\u001b[39m::\u001b[32mlag()\u001b[39m       masks \u001b[34mstats\u001b[39m::lag()\n",
            "\u001b[31m✖\u001b[39m \u001b[34mdplyr\u001b[39m::\u001b[32mmutate()\u001b[39m    masks \u001b[34mplyr\u001b[39m::mutate()\n",
            "\u001b[31m✖\u001b[39m \u001b[34mtidyr\u001b[39m::\u001b[32mpack()\u001b[39m      masks \u001b[34mMatrix\u001b[39m::pack()\n",
            "\u001b[31m✖\u001b[39m \u001b[34mdplyr\u001b[39m::\u001b[32mrename()\u001b[39m    masks \u001b[34mplyr\u001b[39m::rename()\n",
            "\u001b[31m✖\u001b[39m \u001b[34mpurrr\u001b[39m::\u001b[32mset_names()\u001b[39m masks \u001b[34mmagrittr\u001b[39m::set_names()\n",
            "\u001b[31m✖\u001b[39m \u001b[34mdplyr\u001b[39m::\u001b[32msummarise()\u001b[39m masks \u001b[34mplyr\u001b[39m::summarise()\n",
            "\u001b[31m✖\u001b[39m \u001b[34mdplyr\u001b[39m::\u001b[32msummarize()\u001b[39m masks \u001b[34mplyr\u001b[39m::summarize()\n",
            "\u001b[31m✖\u001b[39m \u001b[34mtidyr\u001b[39m::\u001b[32munpack()\u001b[39m    masks \u001b[34mMatrix\u001b[39m::unpack()\n",
            "\n"
          ],
          "name": "stderr"
        }
      ]
    },
    {
      "cell_type": "markdown",
      "metadata": {
        "id": "r85r1nbeWjAi",
        "colab_type": "text"
      },
      "source": [
        "## Preprocesamiento de datos"
      ]
    },
    {
      "cell_type": "markdown",
      "metadata": {
        "id": "Wmrm2ZfDnhrd",
        "colab_type": "text"
      },
      "source": [
        "### Cargado de los datos desde el link"
      ]
    },
    {
      "cell_type": "code",
      "metadata": {
        "id": "vTO8yfJBiRXM",
        "colab_type": "code",
        "colab": {
          "base_uri": "https://localhost:8080/",
          "height": 1000
        },
        "outputId": "318da41f-b071-4b80-f004-fb4285c9ba5a"
      },
      "source": [
        "load(url('https://www.dropbox.com/s/mp094kybobr2ubs/saberpro.RData?dl=1'))"
      ],
      "execution_count": null,
      "outputs": [
        {
          "output_type": "stream",
          "text": [
            "Warning message in load(url(\"https://www.dropbox.com/s/mp094kybobr2ubs/saberpro.RData?dl=1\")):\n",
            "“input string 'COLEGIO DE ESTUDIOS SUPERIORES DE ADMINISTRACION-CESA-BOGOTÁ D.C.' cannot be translated to UTF-8, is it valid in 'CP1252'?”\n",
            "Warning message in load(url(\"https://www.dropbox.com/s/mp094kybobr2ubs/saberpro.RData?dl=1\")):\n",
            "“input string 'COLEGIO MAYOR DE NUESTRA SEÑORA DEL ROSARIO-BOGOTÁ D.C.' cannot be translated to UTF-8, is it valid in 'CP1252'?”\n",
            "Warning message in load(url(\"https://www.dropbox.com/s/mp094kybobr2ubs/saberpro.RData?dl=1\")):\n",
            "“input string 'CORPORACION ESCUELA DE ARTES Y LETRAS-BOGOTÁ D.C.' cannot be translated to UTF-8, is it valid in 'CP1252'?”\n",
            "Warning message in load(url(\"https://www.dropbox.com/s/mp094kybobr2ubs/saberpro.RData?dl=1\")):\n",
            "“input string 'CORPORACION INTERNACIONAL PARA EL DESARROLLO EDUCATIVO -CIDE-BOGOTÁ D.C.' cannot be translated to UTF-8, is it valid in 'CP1252'?”\n",
            "Warning message in load(url(\"https://www.dropbox.com/s/mp094kybobr2ubs/saberpro.RData?dl=1\")):\n",
            "“input string 'CORPORACION TECNOLOGICA INDUSTRIAL COLOMBIANA - TEINCO-BOGOTÁ D.C.' cannot be translated to UTF-8, is it valid in 'CP1252'?”\n",
            "Warning message in load(url(\"https://www.dropbox.com/s/mp094kybobr2ubs/saberpro.RData?dl=1\")):\n",
            "“input string 'CORPORACION UNIFICADA NACIONAL DE EDUCACION SUPERIOR-CUN-BOGOTÁ D.C.' cannot be translated to UTF-8, is it valid in 'CP1252'?”\n",
            "Warning message in load(url(\"https://www.dropbox.com/s/mp094kybobr2ubs/saberpro.RData?dl=1\")):\n",
            "“input string 'CORPORACION UNIVERSIDAD PILOTO DE COLOMBIA-BOGOTÁ D.C.' cannot be translated to UTF-8, is it valid in 'CP1252'?”\n",
            "Warning message in load(url(\"https://www.dropbox.com/s/mp094kybobr2ubs/saberpro.RData?dl=1\")):\n",
            "“input string 'CORPORACION UNIVERSITARIA  UNITEC-BOGOTÁ D.C.' cannot be translated to UTF-8, is it valid in 'CP1252'?”\n",
            "Warning message in load(url(\"https://www.dropbox.com/s/mp094kybobr2ubs/saberpro.RData?dl=1\")):\n",
            "“input string 'CORPORACION UNIVERSITARIA CENDA-BOGOTÁ D.C.' cannot be translated to UTF-8, is it valid in 'CP1252'?”\n",
            "Warning message in load(url(\"https://www.dropbox.com/s/mp094kybobr2ubs/saberpro.RData?dl=1\")):\n",
            "“input string 'CORPORACION UNIVERSITARIA DE ASTURIAS-BOGOTÁ D.C.' cannot be translated to UTF-8, is it valid in 'CP1252'?”\n",
            "Warning message in load(url(\"https://www.dropbox.com/s/mp094kybobr2ubs/saberpro.RData?dl=1\")):\n",
            "“input string 'CORPORACION UNIVERSITARIA DE CIENCIA Y DESARROLLO - UNICIENCIA-BOGOTÁ D.C.' cannot be translated to UTF-8, is it valid in 'CP1252'?”\n",
            "Warning message in load(url(\"https://www.dropbox.com/s/mp094kybobr2ubs/saberpro.RData?dl=1\")):\n",
            "“input string 'CORPORACION UNIVERSITARIA DE COLOMBIA IDEAS-BOGOTÁ D.C.' cannot be translated to UTF-8, is it valid in 'CP1252'?”\n",
            "Warning message in load(url(\"https://www.dropbox.com/s/mp094kybobr2ubs/saberpro.RData?dl=1\")):\n",
            "“input string 'CORPORACION UNIVERSITARIA IBEROAMERICANA-BOGOTÁ D.C.' cannot be translated to UTF-8, is it valid in 'CP1252'?”\n",
            "Warning message in load(url(\"https://www.dropbox.com/s/mp094kybobr2ubs/saberpro.RData?dl=1\")):\n",
            "“input string 'CORPORACION UNIVERSITARIA MINUTO DE DIOS -UNIMINUTO-BOGOTÁ D.C.' cannot be translated to UTF-8, is it valid in 'CP1252'?”\n",
            "Warning message in load(url(\"https://www.dropbox.com/s/mp094kybobr2ubs/saberpro.RData?dl=1\")):\n",
            "“input string 'CORPORACION UNIVERSITARIA REPUBLICANA-BOGOTÁ D.C.' cannot be translated to UTF-8, is it valid in 'CP1252'?”\n",
            "Warning message in load(url(\"https://www.dropbox.com/s/mp094kybobr2ubs/saberpro.RData?dl=1\")):\n",
            "“input string 'DIRECCION NACIONAL DE ESCUELAS-BOGOTÁ D.C.' cannot be translated to UTF-8, is it valid in 'CP1252'?”\n",
            "Warning message in load(url(\"https://www.dropbox.com/s/mp094kybobr2ubs/saberpro.RData?dl=1\")):\n",
            "“input string 'ESC NORMAL SUPERIOR NSTRA SRA DE LA PAZ-BOGOTÁ D.C.' cannot be translated to UTF-8, is it valid in 'CP1252'?”\n",
            "Warning message in load(url(\"https://www.dropbox.com/s/mp094kybobr2ubs/saberpro.RData?dl=1\")):\n",
            "“input string 'ESCUELA COLOMBIANA DE INGENIERIAJULIO GARAVITO-BOGOTÁ D.C.' cannot be translated to UTF-8, is it valid in 'CP1252'?”\n",
            "Warning message in load(url(\"https://www.dropbox.com/s/mp094kybobr2ubs/saberpro.RData?dl=1\")):\n",
            "“input string 'ESCUELA DE INGENIEROS MILITARES-BOGOTÁ D.C.' cannot be translated to UTF-8, is it valid in 'CP1252'?”\n",
            "Warning message in load(url(\"https://www.dropbox.com/s/mp094kybobr2ubs/saberpro.RData?dl=1\")):\n",
            "“input string 'ESCUELA DE INTELIGENCIA Y CONTRAINTELIGENCIA BRIGADIER GENERAL RICARDO CHARRY SOLANO-BOGOTÁ D.C.' cannot be translated to UTF-8, is it valid in 'CP1252'?”\n",
            "Warning message in load(url(\"https://www.dropbox.com/s/mp094kybobr2ubs/saberpro.RData?dl=1\")):\n",
            "“input string 'ESCUELA DE LOGISTICA-BOGOTÁ D.C.' cannot be translated to UTF-8, is it valid in 'CP1252'?”\n",
            "Warning message in load(url(\"https://www.dropbox.com/s/mp094kybobr2ubs/saberpro.RData?dl=1\")):\n",
            "“input string 'ESCUELA MILITAR DE CADETES GENERAL JOSE MARIA CORDOVA-BOGOTÁ D.C.' cannot be translated to UTF-8, is it valid in 'CP1252'?”\n",
            "Warning message in load(url(\"https://www.dropbox.com/s/mp094kybobr2ubs/saberpro.RData?dl=1\")):\n",
            "“input string 'ESCUELA SUPERIOR DE ADMINISTRACION PUBLICA-ESAP-BOGOTÁ D.C.' cannot be translated to UTF-8, is it valid in 'CP1252'?”\n",
            "Warning message in load(url(\"https://www.dropbox.com/s/mp094kybobr2ubs/saberpro.RData?dl=1\")):\n",
            "“input string 'ESCUELA TECNOLOGICA INSTITUTO TECNICO CENTRAL -BOGOTÁ D.C.' cannot be translated to UTF-8, is it valid in 'CP1252'?”\n",
            "Warning message in load(url(\"https://www.dropbox.com/s/mp094kybobr2ubs/saberpro.RData?dl=1\")):\n",
            "“input string 'FUNDACIÓN UNIVERSITARIA SAN ALFONSO- FUSA-BOGOTÁ D.C.' cannot be translated to UTF-8, is it valid in 'CP1252'?”\n",
            "Warning message in load(url(\"https://www.dropbox.com/s/mp094kybobr2ubs/saberpro.RData?dl=1\")):\n",
            "“input string 'FUNDACION DE EDUCACION SUPERIOR SAN JOSE -FESSANJOSE-BOGOTÁ D.C.' cannot be translated to UTF-8, is it valid in 'CP1252'?”\n",
            "Warning message in load(url(\"https://www.dropbox.com/s/mp094kybobr2ubs/saberpro.RData?dl=1\")):\n",
            "“input string 'FUNDACION ESCUELA COLOMBIANA DE REHABILITACION-BOGOTÁ D.C.' cannot be translated to UTF-8, is it valid in 'CP1252'?”\n",
            "Warning message in load(url(\"https://www.dropbox.com/s/mp094kybobr2ubs/saberpro.RData?dl=1\")):\n",
            "“input string 'FUNDACION PARA LA EDUCACION SUPERIOR SAN MATEO FUNDACION SAN MATEO-BOGOTÁ D.C.' cannot be translated to UTF-8, is it valid in 'CP1252'?”\n",
            "Warning message in load(url(\"https://www.dropbox.com/s/mp094kybobr2ubs/saberpro.RData?dl=1\")):\n",
            "“input string 'FUNDACION UNIVERSIDAD AUTONOMA DE COLOMBIA -FUAC--BOGOTÁ D.C.' cannot be translated to UTF-8, is it valid in 'CP1252'?”\n",
            "Warning message in load(url(\"https://www.dropbox.com/s/mp094kybobr2ubs/saberpro.RData?dl=1\")):\n",
            "“input string 'FUNDACION UNIVERSIDAD DE AMERICA-BOGOTÁ D.C.' cannot be translated to UTF-8, is it valid in 'CP1252'?”\n",
            "Warning message in load(url(\"https://www.dropbox.com/s/mp094kybobr2ubs/saberpro.RData?dl=1\")):\n",
            "“input string 'FUNDACION UNIVERSIDAD DE BOGOTAJORGE TADEO LOZANO-BOGOTÁ D.C.' cannot be translated to UTF-8, is it valid in 'CP1252'?”\n",
            "Warning message in load(url(\"https://www.dropbox.com/s/mp094kybobr2ubs/saberpro.RData?dl=1\")):\n",
            "“input string 'FUNDACION UNIVERSITARIA AGRARIA DE COLOMBIA -UNIAGRARIA-BOGOTÁ D.C.' cannot be translated to UTF-8, is it valid in 'CP1252'?”\n",
            "Warning message in load(url(\"https://www.dropbox.com/s/mp094kybobr2ubs/saberpro.RData?dl=1\")):\n",
            "“input string 'FUNDACION UNIVERSITARIA CAFAM-BOGOTÁ D.C.' cannot be translated to UTF-8, is it valid in 'CP1252'?”\n",
            "Warning message in load(url(\"https://www.dropbox.com/s/mp094kybobr2ubs/saberpro.RData?dl=1\")):\n",
            "“input string 'FUNDACION UNIVERSITARIA CERVANTINA SAN AGUSTIN - UNICERVANTINA SAN AGUSTIN-BOGOTÁ D.C.' cannot be translated to UTF-8, is it valid in 'CP1252'?”\n",
            "Warning message in load(url(\"https://www.dropbox.com/s/mp094kybobr2ubs/saberpro.RData?dl=1\")):\n",
            "“input string 'FUNDACION UNIVERSITARIA DE CIENCIAS DE LA SALUD-BOGOTÁ D.C.' cannot be translated to UTF-8, is it valid in 'CP1252'?”\n",
            "Warning message in load(url(\"https://www.dropbox.com/s/mp094kybobr2ubs/saberpro.RData?dl=1\")):\n",
            "“input string 'FUNDACION UNIVERSITARIA DEL AREA ANDINA-BOGOTÁ D.C.' cannot be translated to UTF-8, is it valid in 'CP1252'?”\n",
            "Warning message in load(url(\"https://www.dropbox.com/s/mp094kybobr2ubs/saberpro.RData?dl=1\")):\n",
            "“input string 'FUNDACION UNIVERSITARIA EMPRESARIAL DE LA CAMARA DE COMERCIO DE Bogotá -BOGOTÁ D.C.' cannot be translated to UTF-8, is it valid in 'CP1252'?”\n",
            "Warning message in load(url(\"https://www.dropbox.com/s/mp094kybobr2ubs/saberpro.RData?dl=1\")):\n",
            "“input string 'FUNDACION UNIVERSITARIA JUAN N. CORPAS-BOGOTÁ D.C.' cannot be translated to UTF-8, is it valid in 'CP1252'?”\n",
            "Warning message in load(url(\"https://www.dropbox.com/s/mp094kybobr2ubs/saberpro.RData?dl=1\")):\n",
            "“input string 'FUNDACION UNIVERSITARIA KONRAD LORENZ-BOGOTÁ D.C.' cannot be translated to UTF-8, is it valid in 'CP1252'?”\n",
            "Warning message in load(url(\"https://www.dropbox.com/s/mp094kybobr2ubs/saberpro.RData?dl=1\")):\n",
            "“input string 'FUNDACION UNIVERSITARIA LOS LIBERTADORES-BOGOTÁ D.C.' cannot be translated to UTF-8, is it valid in 'CP1252'?”\n",
            "Warning message in load(url(\"https://www.dropbox.com/s/mp094kybobr2ubs/saberpro.RData?dl=1\")):\n",
            "“input string 'FUNDACION UNIVERSITARIA MONSERRATE - UNIMONSERRATE-BOGOTÁ D.C.' cannot be translated to UTF-8, is it valid in 'CP1252'?”\n",
            "Warning message in load(url(\"https://www.dropbox.com/s/mp094kybobr2ubs/saberpro.RData?dl=1\")):\n",
            "“input string 'FUNDACION UNIVERSITARIA PARA EL DESARROLLO HUMANO - UNINPAHU-BOGOTÁ D.C.' cannot be translated to UTF-8, is it valid in 'CP1252'?”\n",
            "Warning message in load(url(\"https://www.dropbox.com/s/mp094kybobr2ubs/saberpro.RData?dl=1\")):\n",
            "“input string 'FUNDACION UNIVERSITARIA SAN MARTIN-BOGOTÁ D.C.' cannot be translated to UTF-8, is it valid in 'CP1252'?”\n",
            "Warning message in load(url(\"https://www.dropbox.com/s/mp094kybobr2ubs/saberpro.RData?dl=1\")):\n",
            "“input string 'FUNDACION UNIVERSITARIA SANITAS-BOGOTÁ D.C.' cannot be translated to UTF-8, is it valid in 'CP1252'?”\n",
            "Warning message in load(url(\"https://www.dropbox.com/s/mp094kybobr2ubs/saberpro.RData?dl=1\")):\n",
            "“input string 'IED ESCUELA NORMAL SUPERIOR MARÍA AUXILIADORA - SEDE PRINCIPAL-SANTA MARTA' cannot be translated to UTF-8, is it valid in 'CP1252'?”\n",
            "Warning message in load(url(\"https://www.dropbox.com/s/mp094kybobr2ubs/saberpro.RData?dl=1\")):\n",
            "“input string 'INSTITUCION UNIVERSITARIA COLEGIOS DE COLOMBIA -UNICOC-BOGOTÁ D.C.' cannot be translated to UTF-8, is it valid in 'CP1252'?”\n",
            "Warning message in load(url(\"https://www.dropbox.com/s/mp094kybobr2ubs/saberpro.RData?dl=1\")):\n",
            "“input string 'INSTITUCION UNIVERSITARIA COLOMBO AMERICANA - UNICA-BOGOTÁ D.C.' cannot be translated to UTF-8, is it valid in 'CP1252'?”\n",
            "Warning message in load(url(\"https://www.dropbox.com/s/mp094kybobr2ubs/saberpro.RData?dl=1\")):\n",
            "“input string 'INSTITUCION UNIVERSITARIA DE COLOMBIA - UNIVERSITARIA DE COLOMBIA-BOGOTÁ D.C.' cannot be translated to UTF-8, is it valid in 'CP1252'?”\n",
            "Warning message in load(url(\"https://www.dropbox.com/s/mp094kybobr2ubs/saberpro.RData?dl=1\")):\n",
            "“input string 'INSTITUCION UNIVERSITARIA LATINA - UNILATINA-BOGOTÁ D.C.' cannot be translated to UTF-8, is it valid in 'CP1252'?”\n",
            "Warning message in load(url(\"https://www.dropbox.com/s/mp094kybobr2ubs/saberpro.RData?dl=1\")):\n",
            "“input string 'POLITECNICO GRANCOLOMBIANO-BOGOTÁ D.C.' cannot be translated to UTF-8, is it valid in 'CP1252'?”\n",
            "Warning message in load(url(\"https://www.dropbox.com/s/mp094kybobr2ubs/saberpro.RData?dl=1\")):\n",
            "“input string 'PONTIFICIA UNIVERSIDAD JAVERIANA-BOGOTÁ D.C.' cannot be translated to UTF-8, is it valid in 'CP1252'?”\n",
            "Warning message in load(url(\"https://www.dropbox.com/s/mp094kybobr2ubs/saberpro.RData?dl=1\")):\n",
            "“input string 'UNIPANAMERICANA - FUNDACION UNIVERSITARIA PANAMERICANA-BOGOTÁ D.C.' cannot be translated to UTF-8, is it valid in 'CP1252'?”\n",
            "Warning message in load(url(\"https://www.dropbox.com/s/mp094kybobr2ubs/saberpro.RData?dl=1\")):\n",
            "“input string 'UNIVERSIDAD-COLEGIO MAYOR DE CUNDINAMARCA-BOGOTÁ D.C.' cannot be translated to UTF-8, is it valid in 'CP1252'?”\n",
            "Warning message in load(url(\"https://www.dropbox.com/s/mp094kybobr2ubs/saberpro.RData?dl=1\")):\n",
            "“input string 'UNIVERSIDAD ANTONIO NARIÑO-BOGOTÁ D.C.' cannot be translated to UTF-8, is it valid in 'CP1252'?”\n",
            "Warning message in load(url(\"https://www.dropbox.com/s/mp094kybobr2ubs/saberpro.RData?dl=1\")):\n",
            "“input string 'UNIVERSIDAD CATOLICA DE COLOMBIA-BOGOTÁ D.C.' cannot be translated to UTF-8, is it valid in 'CP1252'?”\n",
            "Warning message in load(url(\"https://www.dropbox.com/s/mp094kybobr2ubs/saberpro.RData?dl=1\")):\n",
            "“input string 'UNIVERSIDAD CENTRAL-BOGOTÁ D.C.' cannot be translated to UTF-8, is it valid in 'CP1252'?”\n",
            "Warning message in load(url(\"https://www.dropbox.com/s/mp094kybobr2ubs/saberpro.RData?dl=1\")):\n",
            "“input string 'UNIVERSIDAD COOPERATIVA DE COLOMBIA-BOGOTÁ D.C.' cannot be translated to UTF-8, is it valid in 'CP1252'?”\n",
            "Warning message in load(url(\"https://www.dropbox.com/s/mp094kybobr2ubs/saberpro.RData?dl=1\")):\n",
            "“input string 'UNIVERSIDAD DE CIENCIAS APLICADAS Y AMBIENTALES UDCA.-BOGOTÁ D.C.' cannot be translated to UTF-8, is it valid in 'CP1252'?”\n",
            "Warning message in load(url(\"https://www.dropbox.com/s/mp094kybobr2ubs/saberpro.RData?dl=1\")):\n",
            "“input string 'UNIVERSIDAD DE LA SALLE-BOGOTÁ D.C.' cannot be translated to UTF-8, is it valid in 'CP1252'?”\n",
            "Warning message in load(url(\"https://www.dropbox.com/s/mp094kybobr2ubs/saberpro.RData?dl=1\")):\n",
            "“input string 'UNIVERSIDAD DE LOS ANDES-BOGOTÁ D.C.' cannot be translated to UTF-8, is it valid in 'CP1252'?”\n",
            "Warning message in load(url(\"https://www.dropbox.com/s/mp094kybobr2ubs/saberpro.RData?dl=1\")):\n",
            "“input string 'UNIVERSIDAD DE SAN BUENAVENTURA-BOGOTÁ D.C.' cannot be translated to UTF-8, is it valid in 'CP1252'?”\n",
            "Warning message in load(url(\"https://www.dropbox.com/s/mp094kybobr2ubs/saberpro.RData?dl=1\")):\n",
            "“input string 'UNIVERSIDAD DISTRITALFRANCISCO JOSE DE CALDAS-BOGOTÁ D.C.' cannot be translated to UTF-8, is it valid in 'CP1252'?”\n",
            "Warning message in load(url(\"https://www.dropbox.com/s/mp094kybobr2ubs/saberpro.RData?dl=1\")):\n",
            "“input string 'UNIVERSIDAD EAN-BOGOTÁ D.C.' cannot be translated to UTF-8, is it valid in 'CP1252'?”\n",
            "Warning message in load(url(\"https://www.dropbox.com/s/mp094kybobr2ubs/saberpro.RData?dl=1\")):\n",
            "“input string 'UNIVERSIDAD ECCI-BOGOTÁ D.C.' cannot be translated to UTF-8, is it valid in 'CP1252'?”\n",
            "Warning message in load(url(\"https://www.dropbox.com/s/mp094kybobr2ubs/saberpro.RData?dl=1\")):\n",
            "“input string 'UNIVERSIDAD EL BOSQUE-BOGOTÁ D.C.' cannot be translated to UTF-8, is it valid in 'CP1252'?”\n",
            "Warning message in load(url(\"https://www.dropbox.com/s/mp094kybobr2ubs/saberpro.RData?dl=1\")):\n",
            "“input string 'UNIVERSIDAD EXTERNADO DE COLOMBIA-BOGOTÁ D.C.' cannot be translated to UTF-8, is it valid in 'CP1252'?”\n",
            "Warning message in load(url(\"https://www.dropbox.com/s/mp094kybobr2ubs/saberpro.RData?dl=1\")):\n",
            "“input string 'UNIVERSIDAD INCCA DE COLOMBIA-BOGOTÁ D.C.' cannot be translated to UTF-8, is it valid in 'CP1252'?”\n",
            "Warning message in load(url(\"https://www.dropbox.com/s/mp094kybobr2ubs/saberpro.RData?dl=1\")):\n",
            "“input string 'UNIVERSIDAD LA GRAN COLOMBIA-BOGOTÁ D.C.' cannot be translated to UTF-8, is it valid in 'CP1252'?”\n",
            "Warning message in load(url(\"https://www.dropbox.com/s/mp094kybobr2ubs/saberpro.RData?dl=1\")):\n",
            "“input string 'UNIVERSIDAD LIBRE-BOGOTÁ D.C.' cannot be translated to UTF-8, is it valid in 'CP1252'?”\n",
            "Warning message in load(url(\"https://www.dropbox.com/s/mp094kybobr2ubs/saberpro.RData?dl=1\")):\n",
            "“input string 'UNIVERSIDAD MANUELA BELTRAN-UMB--BOGOTÁ D.C.' cannot be translated to UTF-8, is it valid in 'CP1252'?”\n",
            "Warning message in load(url(\"https://www.dropbox.com/s/mp094kybobr2ubs/saberpro.RData?dl=1\")):\n",
            "“input string 'UNIVERSIDAD MILITARNUEVA GRANADA-BOGOTÁ D.C.' cannot be translated to UTF-8, is it valid in 'CP1252'?”\n",
            "Warning message in load(url(\"https://www.dropbox.com/s/mp094kybobr2ubs/saberpro.RData?dl=1\")):\n",
            "“input string 'UNIVERSIDAD NACIONAL ABIERTA Y A DISTANCIA UNAD-BOGOTÁ D.C.' cannot be translated to UTF-8, is it valid in 'CP1252'?”\n",
            "Warning message in load(url(\"https://www.dropbox.com/s/mp094kybobr2ubs/saberpro.RData?dl=1\")):\n",
            "“input string 'UNIVERSIDAD NACIONAL DE COLOMBIA-BOGOTÁ D.C.' cannot be translated to UTF-8, is it valid in 'CP1252'?”\n",
            "Warning message in load(url(\"https://www.dropbox.com/s/mp094kybobr2ubs/saberpro.RData?dl=1\")):\n",
            "“input string 'UNIVERSIDAD PEDAGOGICA NACIONAL-BOGOTÁ D.C.' cannot be translated to UTF-8, is it valid in 'CP1252'?”\n",
            "Warning message in load(url(\"https://www.dropbox.com/s/mp094kybobr2ubs/saberpro.RData?dl=1\")):\n",
            "“input string 'UNIVERSIDAD SANTO TOMAS-BOGOTÁ D.C.' cannot be translated to UTF-8, is it valid in 'CP1252'?”\n",
            "Warning message in load(url(\"https://www.dropbox.com/s/mp094kybobr2ubs/saberpro.RData?dl=1\")):\n",
            "“input string 'UNIVERSIDAD SERGIO ARBOLEDA-BOGOTÁ D.C.' cannot be translated to UTF-8, is it valid in 'CP1252'?”\n",
            "Warning message in load(url(\"https://www.dropbox.com/s/mp094kybobr2ubs/saberpro.RData?dl=1\")):\n",
            "“input string 'UNIVERSITARIA AGUSTINIANA- UNIAGUSTINIANA-BOGOTÁ D.C.' cannot be translated to UTF-8, is it valid in 'CP1252'?”\n",
            "Warning message in load(url(\"https://www.dropbox.com/s/mp094kybobr2ubs/saberpro.RData?dl=1\")):\n",
            "“input string 'UNIVERSITARIA VIRTUAL INTERNACIONAL-BOGOTÁ D.C.' cannot be translated to UTF-8, is it valid in 'CP1252'?”\n",
            "Warning message in load(url(\"https://www.dropbox.com/s/mp094kybobr2ubs/saberpro.RData?dl=1\")):\n",
            "“input string 'COLEGIO DE ESTUDIOS SUPERIORES DE ADMINISTRACION-CESA-BOGOTÃ D.C.' cannot be translated to UTF-8, is it valid in 'CP1252'?”\n",
            "Warning message in load(url(\"https://www.dropbox.com/s/mp094kybobr2ubs/saberpro.RData?dl=1\")):\n",
            "“input string 'COLEGIO MAYOR DE NUESTRA SEÃ‘ORA DEL ROSARIO-BOGOTÃ D.C.' cannot be translated to UTF-8, is it valid in 'CP1252'?”\n",
            "Warning message in load(url(\"https://www.dropbox.com/s/mp094kybobr2ubs/saberpro.RData?dl=1\")):\n",
            "“input string 'CORPORACION ESCUELA DE ARTES Y LETRAS-BOGOTÃ D.C.' cannot be translated to UTF-8, is it valid in 'CP1252'?”\n",
            "Warning message in load(url(\"https://www.dropbox.com/s/mp094kybobr2ubs/saberpro.RData?dl=1\")):\n",
            "“input string 'CORPORACION INTERNACIONAL PARA EL DESARROLLO EDUCATIVO -CIDE-BOGOTÃ D.C.' cannot be translated to UTF-8, is it valid in 'CP1252'?”\n",
            "Warning message in load(url(\"https://www.dropbox.com/s/mp094kybobr2ubs/saberpro.RData?dl=1\")):\n",
            "“input string 'CORPORACION TECNOLOGICA INDUSTRIAL COLOMBIANA - TEINCO-BOGOTÃ D.C.' cannot be translated to UTF-8, is it valid in 'CP1252'?”\n",
            "Warning message in load(url(\"https://www.dropbox.com/s/mp094kybobr2ubs/saberpro.RData?dl=1\")):\n",
            "“input string 'CORPORACION UNIFICADA NACIONAL DE EDUCACION SUPERIOR-CUN-BOGOTÃ D.C.' cannot be translated to UTF-8, is it valid in 'CP1252'?”\n",
            "Warning message in load(url(\"https://www.dropbox.com/s/mp094kybobr2ubs/saberpro.RData?dl=1\")):\n",
            "“input string 'CORPORACION UNIVERSIDAD PILOTO DE COLOMBIA-BOGOTÃ D.C.' cannot be translated to UTF-8, is it valid in 'CP1252'?”\n",
            "Warning message in load(url(\"https://www.dropbox.com/s/mp094kybobr2ubs/saberpro.RData?dl=1\")):\n",
            "“input string 'CORPORACION UNIVERSITARIA  UNITEC-BOGOTÃ D.C.' cannot be translated to UTF-8, is it valid in 'CP1252'?”\n",
            "Warning message in load(url(\"https://www.dropbox.com/s/mp094kybobr2ubs/saberpro.RData?dl=1\")):\n",
            "“input string 'CORPORACION UNIVERSITARIA CENDA-BOGOTÃ D.C.' cannot be translated to UTF-8, is it valid in 'CP1252'?”\n",
            "Warning message in load(url(\"https://www.dropbox.com/s/mp094kybobr2ubs/saberpro.RData?dl=1\")):\n",
            "“input string 'CORPORACION UNIVERSITARIA DE ASTURIAS-BOGOTÃ D.C.' cannot be translated to UTF-8, is it valid in 'CP1252'?”\n",
            "Warning message in load(url(\"https://www.dropbox.com/s/mp094kybobr2ubs/saberpro.RData?dl=1\")):\n",
            "“input string 'CORPORACION UNIVERSITARIA DE CIENCIA Y DESARROLLO - UNICIENCIA-BOGOTÃ D.C.' cannot be translated to UTF-8, is it valid in 'CP1252'?”\n",
            "Warning message in load(url(\"https://www.dropbox.com/s/mp094kybobr2ubs/saberpro.RData?dl=1\")):\n",
            "“input string 'CORPORACION UNIVERSITARIA DE COLOMBIA IDEAS-BOGOTÃ D.C.' cannot be translated to UTF-8, is it valid in 'CP1252'?”\n",
            "Warning message in load(url(\"https://www.dropbox.com/s/mp094kybobr2ubs/saberpro.RData?dl=1\")):\n",
            "“input string 'CORPORACION UNIVERSITARIA IBEROAMERICANA-BOGOTÃ D.C.' cannot be translated to UTF-8, is it valid in 'CP1252'?”\n",
            "Warning message in load(url(\"https://www.dropbox.com/s/mp094kybobr2ubs/saberpro.RData?dl=1\")):\n",
            "“input string 'CORPORACION UNIVERSITARIA MINUTO DE DIOS -UNIMINUTO-BOGOTÃ D.C.' cannot be translated to UTF-8, is it valid in 'CP1252'?”\n",
            "Warning message in load(url(\"https://www.dropbox.com/s/mp094kybobr2ubs/saberpro.RData?dl=1\")):\n",
            "“input string 'CORPORACION UNIVERSITARIA REPUBLICANA-BOGOTÃ D.C.' cannot be translated to UTF-8, is it valid in 'CP1252'?”\n",
            "Warning message in load(url(\"https://www.dropbox.com/s/mp094kybobr2ubs/saberpro.RData?dl=1\")):\n",
            "“input string 'CORPORACION UNIVERSITARIA TALLER CINCO CENTRO DE DISEÃ‘O-BOGOTÃ D.C.' cannot be translated to UTF-8, is it valid in 'CP1252'?”\n",
            "Warning message in load(url(\"https://www.dropbox.com/s/mp094kybobr2ubs/saberpro.RData?dl=1\")):\n",
            "“input string 'DIRECCION NACIONAL DE ESCUELAS-BOGOTÃ D.C.' cannot be translated to UTF-8, is it valid in 'CP1252'?”\n",
            "Warning message in load(url(\"https://www.dropbox.com/s/mp094kybobr2ubs/saberpro.RData?dl=1\")):\n",
            "“input string 'ESCUELA COLOMBIANA DE INGENIERIAJULIO GARAVITO-BOGOTÃ D.C.' cannot be translated to UTF-8, is it valid in 'CP1252'?”\n",
            "Warning message in load(url(\"https://www.dropbox.com/s/mp094kybobr2ubs/saberpro.RData?dl=1\")):\n",
            "“input string 'ESCUELA DE INGENIEROS MILITARES-BOGOTÃ D.C.' cannot be translated to UTF-8, is it valid in 'CP1252'?”\n",
            "Warning message in load(url(\"https://www.dropbox.com/s/mp094kybobr2ubs/saberpro.RData?dl=1\")):\n",
            "“input string 'ESCUELA DE INTELIGENCIA Y CONTRAINTELIGENCIA BRIGADIER GENERAL RICARDO CHARRY SOLANO-BOGOTÃ D.C.' cannot be translated to UTF-8, is it valid in 'CP1252'?”\n",
            "Warning message in load(url(\"https://www.dropbox.com/s/mp094kybobr2ubs/saberpro.RData?dl=1\")):\n",
            "“input string 'ESCUELA DE LOGISTICA-BOGOTÃ D.C.' cannot be translated to UTF-8, is it valid in 'CP1252'?”\n",
            "Warning message in load(url(\"https://www.dropbox.com/s/mp094kybobr2ubs/saberpro.RData?dl=1\")):\n",
            "“input string 'ESCUELA MILITAR DE CADETES GENERAL JOSE MARIA CORDOVA-BOGOTÃ D.C.' cannot be translated to UTF-8, is it valid in 'CP1252'?”\n",
            "Warning message in load(url(\"https://www.dropbox.com/s/mp094kybobr2ubs/saberpro.RData?dl=1\")):\n",
            "“input string 'ESCUELA SUPERIOR DE ADMINISTRACION PUBLICA-ESAP-BOGOTÃ D.C.' cannot be translated to UTF-8, is it valid in 'CP1252'?”\n",
            "Warning message in load(url(\"https://www.dropbox.com/s/mp094kybobr2ubs/saberpro.RData?dl=1\")):\n",
            "“input string 'ESCUELA TECNOLOGICA INSTITUTO TECNICO CENTRAL -BOGOTÃ D.C.' cannot be translated to UTF-8, is it valid in 'CP1252'?”\n",
            "Warning message in load(url(\"https://www.dropbox.com/s/mp094kybobr2ubs/saberpro.RData?dl=1\")):\n",
            "“input string 'FUNDACIÃ“N UNIVERSITARIA SAN ALFONSO- FUSA-BOGOTÃ D.C.' cannot be translated to UTF-8, is it valid in 'CP1252'?”\n",
            "Warning message in load(url(\"https://www.dropbox.com/s/mp094kybobr2ubs/saberpro.RData?dl=1\")):\n",
            "“input string 'FUNDACION DE EDUCACION SUPERIOR SAN JOSE -FESSANJOSE-BOGOTÃ D.C.' cannot be translated to UTF-8, is it valid in 'CP1252'?”\n",
            "Warning message in load(url(\"https://www.dropbox.com/s/mp094kybobr2ubs/saberpro.RData?dl=1\")):\n",
            "“input string 'FUNDACION ESCUELA COLOMBIANA DE REHABILITACION-BOGOTÃ D.C.' cannot be translated to UTF-8, is it valid in 'CP1252'?”\n",
            "Warning message in load(url(\"https://www.dropbox.com/s/mp094kybobr2ubs/saberpro.RData?dl=1\")):\n",
            "“input string 'FUNDACION PARA LA EDUCACION SUPERIOR SAN MATEO FUNDACION SAN MATEO-BOGOTÃ D.C.' cannot be translated to UTF-8, is it valid in 'CP1252'?”\n",
            "Warning message in load(url(\"https://www.dropbox.com/s/mp094kybobr2ubs/saberpro.RData?dl=1\")):\n",
            "“input string 'FUNDACION UNIVERSIDAD AUTONOMA DE COLOMBIA -FUAC--BOGOTÃ D.C.' cannot be translated to UTF-8, is it valid in 'CP1252'?”\n",
            "Warning message in load(url(\"https://www.dropbox.com/s/mp094kybobr2ubs/saberpro.RData?dl=1\")):\n",
            "“input string 'FUNDACION UNIVERSIDAD DE AMERICA-BOGOTÃ D.C.' cannot be translated to UTF-8, is it valid in 'CP1252'?”\n",
            "Warning message in load(url(\"https://www.dropbox.com/s/mp094kybobr2ubs/saberpro.RData?dl=1\")):\n",
            "“input string 'FUNDACION UNIVERSIDAD DE BOGOTAJORGE TADEO LOZANO-BOGOTÃ D.C.' cannot be translated to UTF-8, is it valid in 'CP1252'?”\n",
            "Warning message in load(url(\"https://www.dropbox.com/s/mp094kybobr2ubs/saberpro.RData?dl=1\")):\n",
            "“input string 'FUNDACION UNIVERSITARIA AGRARIA DE COLOMBIA -UNIAGRARIA-BOGOTÃ D.C.' cannot be translated to UTF-8, is it valid in 'CP1252'?”\n",
            "Warning message in load(url(\"https://www.dropbox.com/s/mp094kybobr2ubs/saberpro.RData?dl=1\")):\n",
            "“input string 'FUNDACION UNIVERSITARIA CAFAM-BOGOTÃ D.C.' cannot be translated to UTF-8, is it valid in 'CP1252'?”\n",
            "Warning message in load(url(\"https://www.dropbox.com/s/mp094kybobr2ubs/saberpro.RData?dl=1\")):\n",
            "“input string 'FUNDACION UNIVERSITARIA CERVANTINA SAN AGUSTIN - UNICERVANTINA SAN AGUSTIN-BOGOTÃ D.C.' cannot be translated to UTF-8, is it valid in 'CP1252'?”\n",
            "Warning message in load(url(\"https://www.dropbox.com/s/mp094kybobr2ubs/saberpro.RData?dl=1\")):\n",
            "“input string 'FUNDACION UNIVERSITARIA DE CIENCIAS DE LA SALUD-BOGOTÃ D.C.' cannot be translated to UTF-8, is it valid in 'CP1252'?”\n",
            "Warning message in load(url(\"https://www.dropbox.com/s/mp094kybobr2ubs/saberpro.RData?dl=1\")):\n",
            "“input string 'FUNDACION UNIVERSITARIA DEL AREA ANDINA-BOGOTÃ D.C.' cannot be translated to UTF-8, is it valid in 'CP1252'?”\n",
            "Warning message in load(url(\"https://www.dropbox.com/s/mp094kybobr2ubs/saberpro.RData?dl=1\")):\n",
            "“input string 'FUNDACION UNIVERSITARIA EMPRESARIAL DE LA CAMARA DE COMERCIO DE BogotÃ¡ -BOGOTÃ D.C.' cannot be translated to UTF-8, is it valid in 'CP1252'?”\n",
            "Warning message in load(url(\"https://www.dropbox.com/s/mp094kybobr2ubs/saberpro.RData?dl=1\")):\n",
            "“input string 'FUNDACION UNIVERSITARIA HORIZONTE-BOGOTÃ D.C.' cannot be translated to UTF-8, is it valid in 'CP1252'?”\n",
            "Warning message in load(url(\"https://www.dropbox.com/s/mp094kybobr2ubs/saberpro.RData?dl=1\")):\n",
            "“input string 'FUNDACION UNIVERSITARIA JUAN N. CORPAS-BOGOTÃ D.C.' cannot be translated to UTF-8, is it valid in 'CP1252'?”\n",
            "Warning message in load(url(\"https://www.dropbox.com/s/mp094kybobr2ubs/saberpro.RData?dl=1\")):\n",
            "“input string 'FUNDACION UNIVERSITARIA KONRAD LORENZ-BOGOTÃ D.C.' cannot be translated to UTF-8, is it valid in 'CP1252'?”\n",
            "Warning message in load(url(\"https://www.dropbox.com/s/mp094kybobr2ubs/saberpro.RData?dl=1\")):\n",
            "“input string 'FUNDACION UNIVERSITARIA LOS LIBERTADORES-BOGOTÃ D.C.' cannot be translated to UTF-8, is it valid in 'CP1252'?”\n",
            "Warning message in load(url(\"https://www.dropbox.com/s/mp094kybobr2ubs/saberpro.RData?dl=1\")):\n",
            "“input string 'FUNDACION UNIVERSITARIA MONSERRATE - UNIMONSERRATE-BOGOTÃ D.C.' cannot be translated to UTF-8, is it valid in 'CP1252'?”\n",
            "Warning message in load(url(\"https://www.dropbox.com/s/mp094kybobr2ubs/saberpro.RData?dl=1\")):\n",
            "“input string 'FUNDACION UNIVERSITARIA PARA EL DESARROLLO HUMANO - UNINPAHU-BOGOTÃ D.C.' cannot be translated to UTF-8, is it valid in 'CP1252'?”\n",
            "Warning message in load(url(\"https://www.dropbox.com/s/mp094kybobr2ubs/saberpro.RData?dl=1\")):\n",
            "“input string 'FUNDACION UNIVERSITARIA SAN MARTIN-BOGOTÃ D.C.' cannot be translated to UTF-8, is it valid in 'CP1252'?”\n",
            "Warning message in load(url(\"https://www.dropbox.com/s/mp094kybobr2ubs/saberpro.RData?dl=1\")):\n",
            "“input string 'FUNDACION UNIVERSITARIA SANITAS-BOGOTÃ D.C.' cannot be translated to UTF-8, is it valid in 'CP1252'?”\n",
            "Warning message in load(url(\"https://www.dropbox.com/s/mp094kybobr2ubs/saberpro.RData?dl=1\")):\n",
            "“input string 'INSTITUCION UNIVERSITARIA COLEGIOS DE COLOMBIA -UNICOC-BOGOTÃ D.C.' cannot be translated to UTF-8, is it valid in 'CP1252'?”\n",
            "Warning message in load(url(\"https://www.dropbox.com/s/mp094kybobr2ubs/saberpro.RData?dl=1\")):\n",
            "“input string 'INSTITUCION UNIVERSITARIA COLOMBO AMERICANA - UNICA-BOGOTÃ D.C.' cannot be translated to UTF-8, is it valid in 'CP1252'?”\n",
            "Warning message in load(url(\"https://www.dropbox.com/s/mp094kybobr2ubs/saberpro.RData?dl=1\")):\n",
            "“input string 'INSTITUCION UNIVERSITARIA DE COLOMBIA - UNIVERSITARIA DE COLOMBIA-BOGOTÃ D.C.' cannot be translated to UTF-8, is it valid in 'CP1252'?”\n",
            "Warning message in load(url(\"https://www.dropbox.com/s/mp094kybobr2ubs/saberpro.RData?dl=1\")):\n",
            "“input string 'INSTITUCION UNIVERSITARIA LATINA - UNILATINA-BOGOTÃ D.C.' cannot be translated to UTF-8, is it valid in 'CP1252'?”\n",
            "Warning message in load(url(\"https://www.dropbox.com/s/mp094kybobr2ubs/saberpro.RData?dl=1\")):\n",
            "“input string 'INSTITUTO SUPERIOR DE CIENCIAS SOCIALES Y ECONOMICO FAMILIARES-ICSEF-BOGOTÃ D.C.' cannot be translated to UTF-8, is it valid in 'CP1252'?”\n",
            "Warning message in load(url(\"https://www.dropbox.com/s/mp094kybobr2ubs/saberpro.RData?dl=1\")):\n",
            "“input string 'POLITECNICO GRANCOLOMBIANO-BOGOTÃ D.C.' cannot be translated to UTF-8, is it valid in 'CP1252'?”\n",
            "Warning message in load(url(\"https://www.dropbox.com/s/mp094kybobr2ubs/saberpro.RData?dl=1\")):\n",
            "“input string 'PONTIFICIA UNIVERSIDAD JAVERIANA-BOGOTÃ D.C.' cannot be translated to UTF-8, is it valid in 'CP1252'?”\n",
            "Warning message in load(url(\"https://www.dropbox.com/s/mp094kybobr2ubs/saberpro.RData?dl=1\")):\n",
            "“input string 'UNIPANAMERICANA - FUNDACION UNIVERSITARIA PANAMERICANA-BOGOTÃ D.C.' cannot be translated to UTF-8, is it valid in 'CP1252'?”\n",
            "Warning message in load(url(\"https://www.dropbox.com/s/mp094kybobr2ubs/saberpro.RData?dl=1\")):\n",
            "“input string 'UNIVERSIDAD-COLEGIO MAYOR DE CUNDINAMARCA-BOGOTÃ D.C.' cannot be translated to UTF-8, is it valid in 'CP1252'?”\n",
            "Warning message in load(url(\"https://www.dropbox.com/s/mp094kybobr2ubs/saberpro.RData?dl=1\")):\n",
            "“input string 'UNIVERSIDAD ANTONIO NARIÃ‘O-BOGOTÃ D.C.' cannot be translated to UTF-8, is it valid in 'CP1252'?”\n",
            "Warning message in load(url(\"https://www.dropbox.com/s/mp094kybobr2ubs/saberpro.RData?dl=1\")):\n",
            "“input string 'UNIVERSIDAD CATOLICA DE COLOMBIA-BOGOTÃ D.C.' cannot be translated to UTF-8, is it valid in 'CP1252'?”\n",
            "Warning message in load(url(\"https://www.dropbox.com/s/mp094kybobr2ubs/saberpro.RData?dl=1\")):\n",
            "“input string 'UNIVERSIDAD CENTRAL-BOGOTÃ D.C.' cannot be translated to UTF-8, is it valid in 'CP1252'?”\n",
            "Warning message in load(url(\"https://www.dropbox.com/s/mp094kybobr2ubs/saberpro.RData?dl=1\")):\n",
            "“input string 'UNIVERSIDAD COOPERATIVA DE COLOMBIA-BOGOTÃ D.C.' cannot be translated to UTF-8, is it valid in 'CP1252'?”\n",
            "Warning message in load(url(\"https://www.dropbox.com/s/mp094kybobr2ubs/saberpro.RData?dl=1\")):\n",
            "“input string 'UNIVERSIDAD DE CIENCIAS APLICADAS Y AMBIENTALES UDCA.-BOGOTÃ D.C.' cannot be translated to UTF-8, is it valid in 'CP1252'?”\n",
            "Warning message in load(url(\"https://www.dropbox.com/s/mp094kybobr2ubs/saberpro.RData?dl=1\")):\n",
            "“input string 'UNIVERSIDAD DE LA SALLE-BOGOTÃ D.C.' cannot be translated to UTF-8, is it valid in 'CP1252'?”\n",
            "Warning message in load(url(\"https://www.dropbox.com/s/mp094kybobr2ubs/saberpro.RData?dl=1\")):\n",
            "“input string 'UNIVERSIDAD DE LOS ANDES-BOGOTÃ D.C.' cannot be translated to UTF-8, is it valid in 'CP1252'?”\n",
            "Warning message in load(url(\"https://www.dropbox.com/s/mp094kybobr2ubs/saberpro.RData?dl=1\")):\n",
            "“input string 'UNIVERSIDAD DE SAN BUENAVENTURA-BOGOTÃ D.C.' cannot be translated to UTF-8, is it valid in 'CP1252'?”\n",
            "Warning message in load(url(\"https://www.dropbox.com/s/mp094kybobr2ubs/saberpro.RData?dl=1\")):\n",
            "“input string 'UNIVERSIDAD DISTRITALFRANCISCO JOSE DE CALDAS-BOGOTÃ D.C.' cannot be translated to UTF-8, is it valid in 'CP1252'?”\n",
            "Warning message in load(url(\"https://www.dropbox.com/s/mp094kybobr2ubs/saberpro.RData?dl=1\")):\n",
            "“input string 'UNIVERSIDAD EAN-BOGOTÃ D.C.' cannot be translated to UTF-8, is it valid in 'CP1252'?”\n",
            "Warning message in load(url(\"https://www.dropbox.com/s/mp094kybobr2ubs/saberpro.RData?dl=1\")):\n",
            "“input string 'UNIVERSIDAD ECCI-BOGOTÃ D.C.' cannot be translated to UTF-8, is it valid in 'CP1252'?”\n",
            "Warning message in load(url(\"https://www.dropbox.com/s/mp094kybobr2ubs/saberpro.RData?dl=1\")):\n",
            "“input string 'UNIVERSIDAD EL BOSQUE-BOGOTÃ D.C.' cannot be translated to UTF-8, is it valid in 'CP1252'?”\n",
            "Warning message in load(url(\"https://www.dropbox.com/s/mp094kybobr2ubs/saberpro.RData?dl=1\")):\n",
            "“input string 'UNIVERSIDAD EXTERNADO DE COLOMBIA-BOGOTÃ D.C.' cannot be translated to UTF-8, is it valid in 'CP1252'?”\n",
            "Warning message in load(url(\"https://www.dropbox.com/s/mp094kybobr2ubs/saberpro.RData?dl=1\")):\n",
            "“input string 'UNIVERSIDAD INCCA DE COLOMBIA-BOGOTÃ D.C.' cannot be translated to UTF-8, is it valid in 'CP1252'?”\n",
            "Warning message in load(url(\"https://www.dropbox.com/s/mp094kybobr2ubs/saberpro.RData?dl=1\")):\n",
            "“input string 'UNIVERSIDAD LA GRAN COLOMBIA-BOGOTÃ D.C.' cannot be translated to UTF-8, is it valid in 'CP1252'?”\n",
            "Warning message in load(url(\"https://www.dropbox.com/s/mp094kybobr2ubs/saberpro.RData?dl=1\")):\n",
            "“input string 'UNIVERSIDAD LIBRE-BOGOTÃ D.C.' cannot be translated to UTF-8, is it valid in 'CP1252'?”\n",
            "Warning message in load(url(\"https://www.dropbox.com/s/mp094kybobr2ubs/saberpro.RData?dl=1\")):\n",
            "“input string 'UNIVERSIDAD MANUELA BELTRAN-UMB--BOGOTÃ D.C.' cannot be translated to UTF-8, is it valid in 'CP1252'?”\n",
            "Warning message in load(url(\"https://www.dropbox.com/s/mp094kybobr2ubs/saberpro.RData?dl=1\")):\n",
            "“input string 'UNIVERSIDAD MILITARNUEVA GRANADA-BOGOTÃ D.C.' cannot be translated to UTF-8, is it valid in 'CP1252'?”\n",
            "Warning message in load(url(\"https://www.dropbox.com/s/mp094kybobr2ubs/saberpro.RData?dl=1\")):\n",
            "“input string 'UNIVERSIDAD NACIONAL ABIERTA Y A DISTANCIA UNAD-BOGOTÃ D.C.' cannot be translated to UTF-8, is it valid in 'CP1252'?”\n",
            "Warning message in load(url(\"https://www.dropbox.com/s/mp094kybobr2ubs/saberpro.RData?dl=1\")):\n",
            "“input string 'UNIVERSIDAD NACIONAL DE COLOMBIA-BOGOTÃ D.C.' cannot be translated to UTF-8, is it valid in 'CP1252'?”\n",
            "Warning message in load(url(\"https://www.dropbox.com/s/mp094kybobr2ubs/saberpro.RData?dl=1\")):\n",
            "“input string 'UNIVERSIDAD PEDAGOGICA NACIONAL-BOGOTÃ D.C.' cannot be translated to UTF-8, is it valid in 'CP1252'?”\n",
            "Warning message in load(url(\"https://www.dropbox.com/s/mp094kybobr2ubs/saberpro.RData?dl=1\")):\n",
            "“input string 'UNIVERSIDAD SANTO TOMAS-BOGOTÃ D.C.' cannot be translated to UTF-8, is it valid in 'CP1252'?”\n",
            "Warning message in load(url(\"https://www.dropbox.com/s/mp094kybobr2ubs/saberpro.RData?dl=1\")):\n",
            "“input string 'UNIVERSIDAD SERGIO ARBOLEDA-BOGOTÃ D.C.' cannot be translated to UTF-8, is it valid in 'CP1252'?”\n",
            "Warning message in load(url(\"https://www.dropbox.com/s/mp094kybobr2ubs/saberpro.RData?dl=1\")):\n",
            "“input string 'UNIVERSITARIA AGUSTINIANA- UNIAGUSTINIANA-BOGOTÃ D.C.' cannot be translated to UTF-8, is it valid in 'CP1252'?”\n",
            "Warning message in load(url(\"https://www.dropbox.com/s/mp094kybobr2ubs/saberpro.RData?dl=1\")):\n",
            "“input string 'UNIVERSITARIA VIRTUAL INTERNACIONAL-BOGOTÃ D.C.' cannot be translated to UTF-8, is it valid in 'CP1252'?”\n",
            "Warning message in load(url(\"https://www.dropbox.com/s/mp094kybobr2ubs/saberpro.RData?dl=1\")):\n",
            "“input string 'ELITE- ESCUELA LATINOAMERICANA DE INGENIEROS, TECNOLOGOS Y EMPRESARIOS-BOGOTÃ D.C.' cannot be translated to UTF-8, is it valid in 'CP1252'?”\n",
            "Warning message in load(url(\"https://www.dropbox.com/s/mp094kybobr2ubs/saberpro.RData?dl=1\")):\n",
            "“input string 'ESCUELA COLOMBIANA DE INGENIERIA\"JULIO GARAVITO\"-BOGOTÃ D.C.' cannot be translated to UTF-8, is it valid in 'CP1252'?”\n",
            "Warning message in load(url(\"https://www.dropbox.com/s/mp094kybobr2ubs/saberpro.RData?dl=1\")):\n",
            "“input string 'ESCUELA MILITAR DE CADETES \"GENERAL JOSE MARIA CORDOVA\"-BOGOTÃ D.C.' cannot be translated to UTF-8, is it valid in 'CP1252'?”\n",
            "Warning message in load(url(\"https://www.dropbox.com/s/mp094kybobr2ubs/saberpro.RData?dl=1\")):\n",
            "“input string 'FUNDACION CENTRO DE EDUCACION SUPERIOR,INVESTIGACION Y PROFESIONALIZACION -CEDINPRO-BOGOTÃ D.C.' cannot be translated to UTF-8, is it valid in 'CP1252'?”\n",
            "Warning message in load(url(\"https://www.dropbox.com/s/mp094kybobr2ubs/saberpro.RData?dl=1\")):\n",
            "“input string 'FUNDACION PARA LA EDUCACION SUPERIOR SAN MATEO \"FUNDACION SAN MATEO\"-BOGOTÃ D.C.' cannot be translated to UTF-8, is it valid in 'CP1252'?”\n",
            "Warning message in load(url(\"https://www.dropbox.com/s/mp094kybobr2ubs/saberpro.RData?dl=1\")):\n",
            "“input string 'FUNDACION UNIVERSIDAD DE BOGOTA\"JORGE TADEO LOZANO\"-BOGOTÃ D.C.' cannot be translated to UTF-8, is it valid in 'CP1252'?”\n",
            "Warning message in load(url(\"https://www.dropbox.com/s/mp094kybobr2ubs/saberpro.RData?dl=1\")):\n",
            "“input string 'UNIVERSIDAD DISTRITAL\"FRANCISCO JOSE DE CALDAS\"-BOGOTÃ D.C.' cannot be translated to UTF-8, is it valid in 'CP1252'?”\n",
            "Warning message in load(url(\"https://www.dropbox.com/s/mp094kybobr2ubs/saberpro.RData?dl=1\")):\n",
            "“input string 'UNIVERSIDAD MILITAR\"NUEVA GRANADA\"-BOGOTÃ D.C.' cannot be translated to UTF-8, is it valid in 'CP1252'?”\n"
          ],
          "name": "stderr"
        }
      ]
    },
    {
      "cell_type": "markdown",
      "metadata": {
        "id": "tu4TJ_pQNPaS",
        "colab_type": "text"
      },
      "source": [
        "### Necesitamos eliminar muestras donde hallan datos faltantes en los puntajes\n",
        "\n"
      ]
    },
    {
      "cell_type": "code",
      "metadata": {
        "id": "4rZGaWaKl2tJ",
        "colab_type": "code",
        "colab": {}
      },
      "source": [
        "saber_pro_df <- data.frame(\n",
        "  index = 1:nrow(sp161718),\n",
        "  periodo = sp161718$periodo,\n",
        "  departamento = sp161718$estu_depto_reside,\n",
        "  raz_cuant_punt = sp161718$raz_cuant_punt,\n",
        "  raz_cuant_des = sp161718$raz_cuant_des,\n",
        "  lect_crit_punt = sp161718$lect_crit_punt,\n",
        "  lect_crit_des = sp161718$lect_crit_des,\n",
        "  comp_ciud_punt = sp161718$comp_ciud_punt,\n",
        "  comp_ciud_des = sp161718$comp_ciud_des,\n",
        "  ingles_punt = sp161718$ingles_punt,\n",
        "  ingles_desem = sp161718$ingles_desem,\n",
        "  comu_escr_punt = sp161718$comu_escr_punt,\n",
        "  comu_escr_des = sp161718$comu_escr_des\n",
        ")\n",
        "saber_pro_df <- na.omit(saber_pro_df)"
      ],
      "execution_count": null,
      "outputs": []
    },
    {
      "cell_type": "code",
      "metadata": {
        "id": "XuhqPBq3ualL",
        "colab_type": "code",
        "colab": {}
      },
      "source": [
        "primer <- substring(saber_pro_df$periodo, 1,4) #A la serie periodo de dejamos sólo el año\n",
        "saber_pro_df$periodo <- as.character(saber_pro_df$periodo)  #convertimos la serie periodo a caracteres\n",
        "saber_pro_df$periodo <- primer\n",
        "saber_pro_df$departamento<-revalue(saber_pro_df$departamento,c('NARIÃƒâ€˜O'=\"NARIÑO\",'NARIÃ‘O'=\"NARIÑO\"))\n",
        "saber_pro_df$periodo <- as.factor(saber_pro_df$periodo)\n",
        "saber_pro_df$raz_cuant_des = as.factor(saber_pro_df$raz_cuant_des) \n",
        "saber_pro_df$lect_crit_des = as.factor (saber_pro_df$lect_crit_des) \n",
        "saber_pro_df$comp_ciud_des = as.factor(saber_pro_df$comp_ciud_des) \n",
        "saber_pro_df$ingles_desem = as.factor(saber_pro_df$ingles_desem) \n",
        "saber_pro_df$comu_escr_des = as.factor(saber_pro_df$comu_escr_des)"
      ],
      "execution_count": null,
      "outputs": []
    },
    {
      "cell_type": "markdown",
      "metadata": {
        "id": "UTd0KkUPWpYm",
        "colab_type": "text"
      },
      "source": [
        "### Realizamos un muestreo aleatorio simple con un error del 3% y nivel de confianza del 89"
      ]
    },
    {
      "cell_type": "code",
      "metadata": {
        "id": "_t4O3JKGujKm",
        "colab_type": "code",
        "colab": {}
      },
      "source": [
        "#Seleccionamos un tamaño de la muestra con el error 3% y con un nivel de 89%\n",
        "tamaño_muestra <- sample.size.prop(e=0.03, P = 0.5, N = nrow(saber_pro_df), level = 0.89)$n\n",
        "\n",
        "indices_muestra_saber_pro <- sample(1:nrow(saber_pro_df),size=tamaño_muestra,replace=FALSE)\n"
      ],
      "execution_count": null,
      "outputs": []
    },
    {
      "cell_type": "code",
      "metadata": {
        "id": "L-AomiNYXRpi",
        "colab_type": "code",
        "colab": {}
      },
      "source": [
        "muestra_mas_saber_pro = saber_pro_df[indices_muestra_saber_pro,]"
      ],
      "execution_count": null,
      "outputs": []
    },
    {
      "cell_type": "markdown",
      "metadata": {
        "id": "32-TQP0eYpSf",
        "colab_type": "text"
      },
      "source": [
        "## 1. Determine si la clasificación en niveles de desempeño en dos de las cinco competencias genéricas son producto del azar o no."
      ]
    },
    {
      "cell_type": "markdown",
      "metadata": {
        "id": "ArniWChweIun",
        "colab_type": "text"
      },
      "source": [
        "### Prueba si la clasificación en **Competencias Ciudadanas** es producto del azar"
      ]
    },
    {
      "cell_type": "markdown",
      "metadata": {
        "colab_type": "text",
        "id": "XHecc_jjimrM"
      },
      "source": [
        "*Se pueden observar diferencias notables*"
      ]
    },
    {
      "cell_type": "code",
      "metadata": {
        "id": "KlbQ4rXhhpTl",
        "colab_type": "code",
        "colab": {
          "base_uri": "https://localhost:8080/",
          "height": 165
        },
        "outputId": "8ad5855d-9b4c-4483-da64-58f92f7a4986"
      },
      "source": [
        "with(chisq.test(table(muestra_mas_saber_pro$comp_ciud_des)), data.frame(observed,expected))"
      ],
      "execution_count": null,
      "outputs": [
        {
          "output_type": "display_data",
          "data": {
            "text/plain": [
              "  Var1 Freq expected\n",
              "1 1    192  177.25  \n",
              "2 2    248  177.25  \n",
              "3 3    241  177.25  \n",
              "4 4     28  177.25  "
            ],
            "text/latex": "A data.frame: 4 × 3\n\\begin{tabular}{r|lll}\n  & Var1 & Freq & expected\\\\\n  & <fct> & <int> & <dbl>\\\\\n\\hline\n\t1 & 1 & 192 & 177.25\\\\\n\t2 & 2 & 248 & 177.25\\\\\n\t3 & 3 & 241 & 177.25\\\\\n\t4 & 4 &  28 & 177.25\\\\\n\\end{tabular}\n",
            "text/markdown": "\nA data.frame: 4 × 3\n\n| <!--/--> | Var1 &lt;fct&gt; | Freq &lt;int&gt; | expected &lt;dbl&gt; |\n|---|---|---|---|\n| 1 | 1 | 192 | 177.25 |\n| 2 | 2 | 248 | 177.25 |\n| 3 | 3 | 241 | 177.25 |\n| 4 | 4 |  28 | 177.25 |\n\n",
            "text/html": [
              "<table>\n",
              "<caption>A data.frame: 4 × 3</caption>\n",
              "<thead>\n",
              "\t<tr><th></th><th scope=col>Var1</th><th scope=col>Freq</th><th scope=col>expected</th></tr>\n",
              "\t<tr><th></th><th scope=col>&lt;fct&gt;</th><th scope=col>&lt;int&gt;</th><th scope=col>&lt;dbl&gt;</th></tr>\n",
              "</thead>\n",
              "<tbody>\n",
              "\t<tr><th scope=row>1</th><td>1</td><td>192</td><td>177.25</td></tr>\n",
              "\t<tr><th scope=row>2</th><td>2</td><td>248</td><td>177.25</td></tr>\n",
              "\t<tr><th scope=row>3</th><td>3</td><td>241</td><td>177.25</td></tr>\n",
              "\t<tr><th scope=row>4</th><td>4</td><td> 28</td><td>177.25</td></tr>\n",
              "</tbody>\n",
              "</table>\n"
            ]
          },
          "metadata": {
            "tags": []
          }
        }
      ]
    },
    {
      "cell_type": "code",
      "metadata": {
        "id": "Wzmfq3RxZSc_",
        "colab_type": "code",
        "colab": {
          "base_uri": "https://localhost:8080/",
          "height": 104
        },
        "outputId": "1b1a50b6-006d-4f3d-fe1d-37fa77210598"
      },
      "source": [
        "chisq.test(table(muestra_mas_saber_pro$comp_ciud_des))"
      ],
      "execution_count": null,
      "outputs": [
        {
          "output_type": "display_data",
          "data": {
            "text/plain": [
              "\n",
              "\tChi-squared test for given probabilities\n",
              "\n",
              "data:  table(muestra_mas_saber_pro$comp_ciud_des)\n",
              "X-squared = 178.07, df = 3, p-value < 2.2e-16\n"
            ]
          },
          "metadata": {
            "tags": []
          }
        }
      ]
    },
    {
      "cell_type": "markdown",
      "metadata": {
        "id": "AMBf8T-oevNv",
        "colab_type": "text"
      },
      "source": [
        "### *La prueba de bondad de ajuste o $\\chi^2$ test muestra que el p-valor da mucho menor que nuestro error de 3%. Es decir **SE RECHAZA** la hipótesis nula y se concluye que los datos no son producto del azar*\n",
        "\n"
      ]
    },
    {
      "cell_type": "markdown",
      "metadata": {
        "id": "VWemeetdgR_B",
        "colab_type": "text"
      },
      "source": [
        "### Prueba si la clasificación en **Comunicación Escrita** es producto del azar"
      ]
    },
    {
      "cell_type": "markdown",
      "metadata": {
        "id": "JBqEdmsribyp",
        "colab_type": "text"
      },
      "source": [
        "*Se pueden observar diferencias notables*"
      ]
    },
    {
      "cell_type": "code",
      "metadata": {
        "id": "0DyIwDVyiUeF",
        "colab_type": "code",
        "colab": {
          "base_uri": "https://localhost:8080/",
          "height": 165
        },
        "outputId": "c3a1ab20-5411-429c-b566-377530876226"
      },
      "source": [
        "with(chisq.test(table(muestra_mas_saber_pro$comu_escr_des)), data.frame(observed,expected))"
      ],
      "execution_count": null,
      "outputs": [
        {
          "output_type": "display_data",
          "data": {
            "text/plain": [
              "  Var1 Freq expected\n",
              "1 1     88  177.25  \n",
              "2 2    270  177.25  \n",
              "3 3    249  177.25  \n",
              "4 4    102  177.25  "
            ],
            "text/latex": "A data.frame: 4 × 3\n\\begin{tabular}{r|lll}\n  & Var1 & Freq & expected\\\\\n  & <fct> & <int> & <dbl>\\\\\n\\hline\n\t1 & 1 &  88 & 177.25\\\\\n\t2 & 2 & 270 & 177.25\\\\\n\t3 & 3 & 249 & 177.25\\\\\n\t4 & 4 & 102 & 177.25\\\\\n\\end{tabular}\n",
            "text/markdown": "\nA data.frame: 4 × 3\n\n| <!--/--> | Var1 &lt;fct&gt; | Freq &lt;int&gt; | expected &lt;dbl&gt; |\n|---|---|---|---|\n| 1 | 1 |  88 | 177.25 |\n| 2 | 2 | 270 | 177.25 |\n| 3 | 3 | 249 | 177.25 |\n| 4 | 4 | 102 | 177.25 |\n\n",
            "text/html": [
              "<table>\n",
              "<caption>A data.frame: 4 × 3</caption>\n",
              "<thead>\n",
              "\t<tr><th></th><th scope=col>Var1</th><th scope=col>Freq</th><th scope=col>expected</th></tr>\n",
              "\t<tr><th></th><th scope=col>&lt;fct&gt;</th><th scope=col>&lt;int&gt;</th><th scope=col>&lt;dbl&gt;</th></tr>\n",
              "</thead>\n",
              "<tbody>\n",
              "\t<tr><th scope=row>1</th><td>1</td><td> 88</td><td>177.25</td></tr>\n",
              "\t<tr><th scope=row>2</th><td>2</td><td>270</td><td>177.25</td></tr>\n",
              "\t<tr><th scope=row>3</th><td>3</td><td>249</td><td>177.25</td></tr>\n",
              "\t<tr><th scope=row>4</th><td>4</td><td>102</td><td>177.25</td></tr>\n",
              "</tbody>\n",
              "</table>\n"
            ]
          },
          "metadata": {
            "tags": []
          }
        }
      ]
    },
    {
      "cell_type": "code",
      "metadata": {
        "id": "pcc2-T6UhcaW",
        "colab_type": "code",
        "colab": {
          "base_uri": "https://localhost:8080/",
          "height": 104
        },
        "outputId": "e98c810c-35e8-44fe-aae2-9d7aa5e4352e"
      },
      "source": [
        "chisq.test(table(muestra_mas_saber_pro$comu_escr_des))"
      ],
      "execution_count": null,
      "outputs": [
        {
          "output_type": "display_data",
          "data": {
            "text/plain": [
              "\n",
              "\tChi-squared test for given probabilities\n",
              "\n",
              "data:  table(muestra_mas_saber_pro$comu_escr_des)\n",
              "X-squared = 154.46, df = 3, p-value < 2.2e-16\n"
            ]
          },
          "metadata": {
            "tags": []
          }
        }
      ]
    },
    {
      "cell_type": "markdown",
      "metadata": {
        "colab_type": "text",
        "id": "bAb-Cz5Rhe84"
      },
      "source": [
        "### *La prueba de bondad de ajuste o $\\chi^2$ test muestra que el p-valor da mucho menor que nuestro error de 3%. Es decir **SE RECHAZA** la hipótesis nula y se concluye que los datos no son producto del azar*\n",
        "\n"
      ]
    },
    {
      "cell_type": "markdown",
      "metadata": {
        "id": "g2og1vOGi3fR",
        "colab_type": "text"
      },
      "source": [
        "## 2. Determine si esos resultados son independientes o dependientes entre sí."
      ]
    },
    {
      "cell_type": "markdown",
      "metadata": {
        "id": "Sl4vi7iKlrsO",
        "colab_type": "text"
      },
      "source": [
        "### Prueba si la clasificación en competencias ciudadanas y comunicación escrita son independientes"
      ]
    },
    {
      "cell_type": "code",
      "metadata": {
        "id": "upPv12BelA_c",
        "colab_type": "code",
        "colab": {
          "base_uri": "https://localhost:8080/",
          "height": 121
        },
        "outputId": "7c892714-07e9-4d4b-f791-1f5d35795622"
      },
      "source": [
        "with(muestra_mas_saber_pro,table(comu_escr_des, comp_ciud_des))"
      ],
      "execution_count": null,
      "outputs": [
        {
          "output_type": "display_data",
          "data": {
            "text/plain": [
              "             comp_ciud_des\n",
              "comu_escr_des   1   2   3   4\n",
              "            1  33  40  13   2\n",
              "            2  76 104  84   6\n",
              "            3  66  77  95  11\n",
              "            4  17  27  49   9"
            ]
          },
          "metadata": {
            "tags": []
          }
        }
      ]
    },
    {
      "cell_type": "code",
      "metadata": {
        "id": "k2p8wqVPjEs3",
        "colab_type": "code",
        "colab": {
          "base_uri": "https://localhost:8080/",
          "height": 139
        },
        "outputId": "b3f6903d-eb50-4b53-a094-1e322fc608bc"
      },
      "source": [
        "with(muestra_mas_saber_pro,chisq.test(table(comu_escr_des, comp_ciud_des)))"
      ],
      "execution_count": null,
      "outputs": [
        {
          "output_type": "stream",
          "text": [
            "Warning message in chisq.test(table(comu_escr_des, comp_ciud_des)):\n",
            "“Chi-squared approximation may be incorrect”\n"
          ],
          "name": "stderr"
        },
        {
          "output_type": "display_data",
          "data": {
            "text/plain": [
              "\n",
              "\tPearson's Chi-squared test\n",
              "\n",
              "data:  table(comu_escr_des, comp_ciud_des)\n",
              "X-squared = 41.118, df = 9, p-value = 4.761e-06\n"
            ]
          },
          "metadata": {
            "tags": []
          }
        }
      ]
    },
    {
      "cell_type": "markdown",
      "metadata": {
        "colab_type": "text",
        "id": "6aX1aTuDlPyv"
      },
      "source": [
        "### *La prueba de independencia nos muestra que el p-valor es mucho menor que nuestro error de 3%. Es decir **SE RECHAZA** la hipótesis nula y concluimos que que las dos clasificaciones son independientes entre si.*\n",
        "\n"
      ]
    },
    {
      "cell_type": "markdown",
      "metadata": {
        "id": "y5nW9YPzl2PZ",
        "colab_type": "text"
      },
      "source": [
        "### Prueba si la clasificación en razonamiento cuantitativo e inglés son independientes"
      ]
    },
    {
      "cell_type": "code",
      "metadata": {
        "id": "tRWXhAGsl9Jw",
        "colab_type": "code",
        "colab": {
          "base_uri": "https://localhost:8080/",
          "height": 121
        },
        "outputId": "c9af001e-9698-43b3-d5fc-ce9ea6e2ddb8"
      },
      "source": [
        "with(muestra_mas_saber_pro,table(raz_cuant_des, ingles_desem))"
      ],
      "execution_count": null,
      "outputs": [
        {
          "output_type": "display_data",
          "data": {
            "text/plain": [
              "             ingles_desem\n",
              "raz_cuant_des A1 A1- A2 B1 B2\n",
              "            1 69  61 19 12  2\n",
              "            2 98  53 59 19  7\n",
              "            3 61  18 86 87 32\n",
              "            4  2   1  4  9 10"
            ]
          },
          "metadata": {
            "tags": []
          }
        }
      ]
    },
    {
      "cell_type": "code",
      "metadata": {
        "id": "5eKJVCl8mGHX",
        "colab_type": "code",
        "colab": {
          "base_uri": "https://localhost:8080/",
          "height": 139
        },
        "outputId": "f886ff2e-bcd3-4737-f80d-f2c6190b992e"
      },
      "source": [
        "with(muestra_mas_saber_pro,chisq.test(table(comu_escr_des, comp_ciud_des)))"
      ],
      "execution_count": null,
      "outputs": [
        {
          "output_type": "stream",
          "text": [
            "Warning message in chisq.test(table(comu_escr_des, comp_ciud_des)):\n",
            "“Chi-squared approximation may be incorrect”\n"
          ],
          "name": "stderr"
        },
        {
          "output_type": "display_data",
          "data": {
            "text/plain": [
              "\n",
              "\tPearson's Chi-squared test\n",
              "\n",
              "data:  table(comu_escr_des, comp_ciud_des)\n",
              "X-squared = 41.118, df = 9, p-value = 4.761e-06\n"
            ]
          },
          "metadata": {
            "tags": []
          }
        }
      ]
    },
    {
      "cell_type": "markdown",
      "metadata": {
        "colab_type": "text",
        "id": "7cD0wdnkmbxs"
      },
      "source": [
        "### *La prueba de independencia nos muestra que el p-valor es mucho menor que nuestro error de 3%. Es decir **SE RECHAZA** la hipótesis nula y concluimos que que las dos clasificaciones **SON DEPENDIENTES** entre si.*\n",
        "\n"
      ]
    },
    {
      "cell_type": "markdown",
      "metadata": {
        "id": "fO6L5W8Xm5Dt",
        "colab_type": "text"
      },
      "source": [
        "## 3. Con la muestra, calcule un promedio general por estudiante para las cinco competencias y realice un ranking inicial y un ranking final por departamento; determine si hubo cambios significativos en esa clasificación"
      ]
    },
    {
      "cell_type": "markdown",
      "metadata": {
        "id": "Fow_fvix8moD",
        "colab_type": "text"
      },
      "source": [
        "### Realizamos una agrupación por año y por departamento y aplicamos el promedio entre los puntajes"
      ]
    },
    {
      "cell_type": "code",
      "metadata": {
        "id": "XXylL_SIm6W-",
        "colab_type": "code",
        "colab": {
          "base_uri": "https://localhost:8080/"
        },
        "outputId": "bc390d60-1b09-45a3-c88a-1cc75f80331a"
      },
      "source": [
        "muestra_puntaje_promedio <- data.frame(\n",
        "  periodo = saber_pro_df$periodo,\n",
        "  departamento = saber_pro_df$departamento,\n",
        "  promedio = with(saber_pro_df, (comp_ciud_punt+comu_escr_punt+ingles_punt+lect_crit_punt+raz_cuant_punt)/5)\n",
        ")\n",
        "\n",
        "promedio_dptos_año <- muestra_puntaje_promedio %>%\n",
        "  select(departamento,periodo,promedio) %>%\n",
        "  group_by(departamento,periodo) %>%\n",
        "  summarise(puntaje_dpto=mean(promedio))"
      ],
      "execution_count": null,
      "outputs": [
        {
          "output_type": "stream",
          "text": [
            "`summarise()` regrouping output by 'departamento' (override with `.groups` argument)\n",
            "\n"
          ],
          "name": "stderr"
        }
      ]
    },
    {
      "cell_type": "markdown",
      "metadata": {
        "id": "U0ds1NiU84xL",
        "colab_type": "text"
      },
      "source": [
        "### Separamos entre cada periodo"
      ]
    },
    {
      "cell_type": "code",
      "metadata": {
        "id": "Lvgr3tNd87Lu",
        "colab_type": "code",
        "colab": {}
      },
      "source": [
        "deptos_2017<-promedio_dptos_año[promedio_dptos_año$periodo=='2017',c('departamento','puntaje_dpto')]\n",
        "deptos_2018<-promedio_dptos_año[promedio_dptos_año$periodo=='2018',c('departamento','puntaje_dpto')]"
      ],
      "execution_count": null,
      "outputs": []
    },
    {
      "cell_type": "markdown",
      "metadata": {
        "id": "cnVF4iQdGVZL",
        "colab_type": "text"
      },
      "source": [
        "### Realizamos un ordenamiento por el puntaje, asignamos una clasficacióón y reordenamos por departamento para comparar los puestos de cada departamento"
      ]
    },
    {
      "cell_type": "code",
      "metadata": {
        "id": "B4Zn4bJt-9vo",
        "colab_type": "code",
        "colab": {}
      },
      "source": [
        "ordenados_deptos_2017<-deptos_2017 %>% arrange(desc(puntaje_dpto))\n",
        "ordenados_deptos_2018<-deptos_2018 %>% arrange(desc(puntaje_dpto))\n",
        "\n",
        "ordenados_deptos_2017$puesto  <- 1:nrow(ordenados_deptos_2017)\n",
        "ordenados_deptos_2018$puesto  <- 1:nrow(ordenados_deptos_2018)\n",
        "\n",
        "ordenados_deptos_2017 <- ordenados_deptos_2017[order(ordenados_deptos_2017$departamento),]\n",
        "ordenados_deptos_2018 <- ordenados_deptos_2018[order(ordenados_deptos_2018$departamento),]"
      ],
      "execution_count": null,
      "outputs": []
    },
    {
      "cell_type": "code",
      "metadata": {
        "id": "UzRPq0WQ-wcO",
        "colab_type": "code",
        "colab": {
          "base_uri": "https://localhost:8080/"
        },
        "outputId": "da51b9b3-2244-4935-a480-c10064978d07"
      },
      "source": [
        "wilcoxsign_test(ordenados_deptos_2017$puesto ~ ordenados_deptos_2018$puesto,  distribution = \"exact\")"
      ],
      "execution_count": null,
      "outputs": [
        {
          "output_type": "display_data",
          "data": {
            "text/plain": [
              "\n",
              "\tExact Wilcoxon-Pratt Signed-Rank Test\n",
              "\n",
              "data:  y by x (pos, neg) \n",
              "\t stratified by block\n",
              "Z = 1.1865, p-value = 0.241\n",
              "alternative hypothesis: true mu is not equal to 0\n"
            ]
          },
          "metadata": {
            "tags": []
          }
        }
      ]
    },
    {
      "cell_type": "markdown",
      "metadata": {
        "colab_type": "text",
        "id": "Yv2Yq5I-Gmub"
      },
      "source": [
        "### *La prueba de signos nos muestra que el p-valor es mucho mayor que nuestro error de 3%. Es decir **NO SE RECHAZA** la hipóótesis nula, por lo tanto podemos concluir que no hubo cambios en la clasificación por departamentos entre 2017 y 2018*\n",
        "\n"
      ]
    }
  ]
}