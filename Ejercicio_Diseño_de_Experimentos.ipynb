{
 "cells": [
  {
   "cell_type": "markdown",
   "metadata": {},
   "source": [
    "## Ejercicio\n",
    "\n",
    "Plantee un ejercicio, a su gusto, donde sea posible hacer uso de los distintos tipos de Diseño de Experimentos:\n",
    "\n",
    "\n",
    "*   ANOVA de un Factor (Efectos Fijos)\n",
    "*   Anova de un Factor (Efectos Aleatorios)\n",
    "*   Diseño por Bloques\n",
    "*   Diseño Factorial (Dos Factores)\n",
    "*   Cuadrado Latino\n"
   ]
  },
  {
   "cell_type": "markdown",
   "metadata": {},
   "source": [
    "### Planteamiento del problema"
   ]
  },
  {
   "cell_type": "markdown",
   "metadata": {},
   "source": [
    "Una empresa de telecomunicaciones de una ciudad revisa la velocidad de internet promedio por casa, las cuales tienen teoricamente contratadas 50 megas. Para la investigación de la empresa, esta contacta con las empresas que trabajan en dicha localidad, a lo que luego, buscan datos estadisticos sobre el tipo de conexión y cuantos equipos conectados a internet se encuentran en cada casa.\n",
    "\n",
    "Los valores estan dados en megas promedio a lo largo del dia.  \n",
    "Los operadores estan identificados con las letras X, Y ,Z.  \n",
    "La cantidad de equipos es considerada entre 1 y 5 como 1; entre 6 y 10 como 2; entre 11 y 20 como 3.  \n",
    "Por ultimo el tipo de conexión esta dado por: A como conexión coaxial, B como conexión por fibra optica y C como conexión satelital."
   ]
  },
  {
   "cell_type": "markdown",
   "metadata": {},
   "source": [
    "## ANOVA: Efectos Fijos"
   ]
  },
  {
   "cell_type": "markdown",
   "metadata": {},
   "source": [
    "Para el caso de Anova de efectos fijos, se tomo como variable principal el tipo de conexión para ver como es la variación de velocidad recibida por cada medio de transporte de datos. Por ende los datos se clasificaron de la siguiente manera:\n",
    "\n",
    "| M  | Conexión     | M  | Conexión     | M  | Conexión     |\n",
    "|----|--------------|----|--------------|----|--------------|\n",
    "| 32 | A            | 51 | B            | 29 | C            |\n",
    "| 37 | A            | 56 | B            | 39 | C            |\n",
    "| 45 | A            | 54 | B            | 41 | C            |\n",
    "| 50 | A            | 47 | B            | 38 | C            |\n",
    "| 28 | A            | 38 | B            | 39 | C            |\n",
    "| 32 | A            | 42 | B            | 49 | C            |\n",
    "| 52 | A            | 53 | B            | 42 | C            |\n"
   ]
  },
  {
   "cell_type": "code",
   "execution_count": 8,
   "metadata": {},
   "outputs": [
    {
     "data": {
      "text/html": [
       "<table>\n",
       "<thead><tr><th scope=col>Velocidad</th><th scope=col>Conexion</th></tr></thead>\n",
       "<tbody>\n",
       "\t<tr><td>32</td><td>1 </td></tr>\n",
       "\t<tr><td>37</td><td>1 </td></tr>\n",
       "\t<tr><td>45</td><td>1 </td></tr>\n",
       "\t<tr><td>50</td><td>1 </td></tr>\n",
       "\t<tr><td>28</td><td>1 </td></tr>\n",
       "\t<tr><td>32</td><td>1 </td></tr>\n",
       "</tbody>\n",
       "</table>\n"
      ],
      "text/latex": [
       "\\begin{tabular}{r|ll}\n",
       " Velocidad & Conexion\\\\\n",
       "\\hline\n",
       "\t 32 & 1 \\\\\n",
       "\t 37 & 1 \\\\\n",
       "\t 45 & 1 \\\\\n",
       "\t 50 & 1 \\\\\n",
       "\t 28 & 1 \\\\\n",
       "\t 32 & 1 \\\\\n",
       "\\end{tabular}\n"
      ],
      "text/markdown": [
       "\n",
       "| Velocidad | Conexion |\n",
       "|---|---|\n",
       "| 32 | 1  |\n",
       "| 37 | 1  |\n",
       "| 45 | 1  |\n",
       "| 50 | 1  |\n",
       "| 28 | 1  |\n",
       "| 32 | 1  |\n",
       "\n"
      ],
      "text/plain": [
       "  Velocidad Conexion\n",
       "1 32        1       \n",
       "2 37        1       \n",
       "3 45        1       \n",
       "4 50        1       \n",
       "5 28        1       \n",
       "6 32        1       "
      ]
     },
     "metadata": {},
     "output_type": "display_data"
    }
   ],
   "source": [
    "# Leemos los datos\n",
    "data<-read.table(\"data/ANOVAEF.txt\",header=T,dec=\",\",sep=\"\\t\")\n",
    "head(data)"
   ]
  },
  {
   "cell_type": "code",
   "execution_count": 11,
   "metadata": {},
   "outputs": [
    {
     "data": {
      "image/png": "[encoded data removed]",
      "text/plain": [
       "plot without title"
      ]
     },
     "metadata": {},
     "output_type": "display_data"
    }
   ],
   "source": [
    "# Grafica de disperción de datos\n",
    "with(data, plot(Conexion,Velocidad))"
   ]
  },
  {
   "cell_type": "code",
   "execution_count": 13,
   "metadata": {},
   "outputs": [
    {
     "data": {
      "image/png": "[encoded data removed]",
      "text/plain": [
       "plot without title"
      ]
     },
     "metadata": {},
     "output_type": "display_data"
    }
   ],
   "source": [
    "# Convertimos en Factor la variable y volvemos a graficar\n",
    "data$Conexion<-factor(data$Conexion)\n",
    "with(data, plot(Conexion,Velocidad))"
   ]
  },
  {
   "cell_type": "code",
   "execution_count": 15,
   "metadata": {},
   "outputs": [
    {
     "data": {
      "text/plain": [
       "\n",
       "Call:\n",
       "lm(formula = Velocidad ~ Conexion, data = data)\n",
       "\n",
       "Residuals:\n",
       "     Min       1Q   Median       3Q      Max \n",
       "-11.4286  -6.7143  -0.5714   5.2857  12.5714 \n",
       "\n",
       "Coefficients:\n",
       "            Estimate Std. Error t value Pr(>|t|)    \n",
       "(Intercept)  39.4286     2.8548  13.812 5.09e-11 ***\n",
       "Conexion2     9.2857     4.0372   2.300   0.0336 *  \n",
       "Conexion3     0.1429     4.0372   0.035   0.9722    \n",
       "---\n",
       "Signif. codes:  0 '***' 0.001 '**' 0.01 '*' 0.05 '.' 0.1 ' ' 1\n",
       "\n",
       "Residual standard error: 7.553 on 18 degrees of freedom\n",
       "Multiple R-squared:  0.2785,\tAdjusted R-squared:  0.1983 \n",
       "F-statistic: 3.473 on 2 and 18 DF,  p-value: 0.05301\n"
      ]
     },
     "metadata": {},
     "output_type": "display_data"
    }
   ],
   "source": [
    "# Vamos a hacerlo creando los objetos tipo modelo\n",
    "m.aov<-lm(Velocidad~Conexion,data=data)\n",
    "summary(m.aov)"
   ]
  },
  {
   "cell_type": "code",
   "execution_count": 16,
   "metadata": {},
   "outputs": [
    {
     "data": {
      "text/plain": [
       "            Df Sum Sq Mean Sq F value Pr(>F)  \n",
       "Conexion     2  396.3  198.14   3.473  0.053 .\n",
       "Residuals   18 1026.9   57.05                 \n",
       "---\n",
       "Signif. codes:  0 '***' 0.001 '**' 0.01 '*' 0.05 '.' 0.1 ' ' 1"
      ]
     },
     "metadata": {},
     "output_type": "display_data"
    }
   ],
   "source": [
    "# La ANOVA en detalle\n",
    "aov.m<-aov(m.aov)\n",
    "summary(aov.m)"
   ]
  },
  {
   "cell_type": "code",
   "execution_count": 17,
   "metadata": {},
   "outputs": [
    {
     "data": {
      "text/plain": [
       "\n",
       "\tPairwise comparisons using t tests with pooled SD \n",
       "\n",
       "data:  Velocidad and Conexion \n",
       "\n",
       "  1    2   \n",
       "2 0.10 -   \n",
       "3 0.97 0.10\n",
       "\n",
       "P value adjustment method: holm "
      ]
     },
     "metadata": {},
     "output_type": "display_data"
    }
   ],
   "source": [
    "# Test de comparación de medias:\n",
    "attach(data)\n",
    "library(stats)\n",
    "pairwise.t.test(Velocidad,Conexion)"
   ]
  },
  {
   "cell_type": "code",
   "execution_count": 18,
   "metadata": {},
   "outputs": [
    {
     "data": {
      "text/plain": [
       "  Tukey multiple comparisons of means\n",
       "    95% family-wise confidence level\n",
       "\n",
       "Fit: aov(formula = m.aov)\n",
       "\n",
       "$Conexion\n",
       "          diff        lwr       upr     p adj\n",
       "2-1  9.2857143  -1.017985 19.589414 0.0815214\n",
       "3-1  0.1428571 -10.160842 10.446556 0.9993100\n",
       "3-2 -9.1428571 -19.446556  1.160842 0.0871391\n"
      ]
     },
     "metadata": {},
     "output_type": "display_data"
    }
   ],
   "source": [
    "# El test de Tukey que nos permite revisar si, efectivamente, se observan diferencias entre niveles\n",
    "tk.aov.m<-TukeyHSD(aov.m)\n",
    "tk.aov.m"
   ]
  },
  {
   "cell_type": "code",
   "execution_count": 19,
   "metadata": {},
   "outputs": [
    {
     "data": {
      "image/png": "[encoded data removed]",
      "text/plain": [
       "Plot with title \"95% family-wise confidence level\n",
       "\""
      ]
     },
     "metadata": {},
     "output_type": "display_data"
    }
   ],
   "source": [
    "# Y el gráfico\n",
    "plot(tk.aov.m)"
   ]
  },
  {
   "cell_type": "code",
   "execution_count": 20,
   "metadata": {},
   "outputs": [
    {
     "data": {
      "image/png": "[encoded data removed]",
      "text/plain": [
       "Plot with title \"\""
      ]
     },
     "metadata": {},
     "output_type": "display_data"
    },
    {
     "data": {
      "image/png": "[encoded data removed]",
      "text/plain": [
       "Plot with title \"\""
      ]
     },
     "metadata": {},
     "output_type": "display_data"
    },
    {
     "data": {
      "image/png": "[encoded data removed]",
      "text/plain": [
       "Plot with title \"\""
      ]
     },
     "metadata": {},
     "output_type": "display_data"
    },
    {
     "data": {
      "image/png": "[encoded data removed]",
      "text/plain": [
       "Plot with title \"\""
      ]
     },
     "metadata": {},
     "output_type": "display_data"
    }
   ],
   "source": [
    "plot(m.aov)"
   ]
  },
  {
   "cell_type": "markdown",
   "metadata": {},
   "source": [
    "Como podemos ver el tipo conexión es un factor importante, si bien no influye en gran forma si da su aporte correlacional a la velocidad. Ahora bien, la forma en que diferencian los datos con respecto al de Fibra Optica es grande, tanto en disperción, en la cual la satelital sobresale. Quiza por motivos de caida de internet a cortos periodos de tiempo. La otra variable que afecta la diferencia es la media de los datos de cada una. Podemos ver como en la conexión coaxial disminuye en gran forma con respecto a la segunda que es la firba opctica.\n",
    "\n",
    "En resumen, se puede apreciar la variabilidad de contratar distintos tipos de conexión, siendo la fibra optica la mejor candidata por su media y poca desviación entre su suministro de datos."
   ]
  },
  {
   "cell_type": "markdown",
   "metadata": {},
   "source": [
    "## ANOVA: Efectos Aleatorios"
   ]
  },
  {
   "cell_type": "markdown",
   "metadata": {},
   "source": [
    "Para el caso de Anova de efectos aleatorios, se tomo como variable principal la cantidad de equipos accesando a internet para ver como es la variación de velocidad. Por ende los datos se clasificaron de la siguiente manera:\n",
    "\n",
    "| M  | Equipos      | M  | Equipos      | M  | Equipos      |\n",
    "|----|--------------|----|--------------|----|--------------|\n",
    "| 47 | 1            | 47 | 2            | 29 | 3            |\n",
    "| 37 | 1            | 43 | 2            | 37 | 3            |\n",
    "| 53 | 1            | 38 | 2            | 42 | 3            |\n",
    "| 56 | 1            | 35 | 2            | 38 | 3            |\n",
    "| 42 | 1            | 43 | 2            | 39 | 3            |\n",
    "| 49 | 1            | 39 | 2            | 36 | 3            |\n",
    "| 39 | 1            | 42 | 2            | 42 | 3            |\n",
    "\n",
    "Recordemos que los numeros 1,2 y 3 en la tabla representan la categoria cantidad de equipos como se planteo al principion, es decir, no son esa cantidad de equipos coenctados."
   ]
  },
  {
   "cell_type": "code",
   "execution_count": 39,
   "metadata": {},
   "outputs": [
    {
     "data": {
      "text/html": [
       "<table>\n",
       "<thead><tr><th scope=col>Velocidad</th><th scope=col>Equipos</th></tr></thead>\n",
       "<tbody>\n",
       "\t<tr><td>47</td><td>1 </td></tr>\n",
       "\t<tr><td>37</td><td>1 </td></tr>\n",
       "\t<tr><td>53</td><td>1 </td></tr>\n",
       "\t<tr><td>56</td><td>1 </td></tr>\n",
       "\t<tr><td>42</td><td>1 </td></tr>\n",
       "\t<tr><td>49</td><td>1 </td></tr>\n",
       "</tbody>\n",
       "</table>\n"
      ],
      "text/latex": [
       "\\begin{tabular}{r|ll}\n",
       " Velocidad & Equipos\\\\\n",
       "\\hline\n",
       "\t 47 & 1 \\\\\n",
       "\t 37 & 1 \\\\\n",
       "\t 53 & 1 \\\\\n",
       "\t 56 & 1 \\\\\n",
       "\t 42 & 1 \\\\\n",
       "\t 49 & 1 \\\\\n",
       "\\end{tabular}\n"
      ],
      "text/markdown": [
       "\n",
       "| Velocidad | Equipos |\n",
       "|---|---|\n",
       "| 47 | 1  |\n",
       "| 37 | 1  |\n",
       "| 53 | 1  |\n",
       "| 56 | 1  |\n",
       "| 42 | 1  |\n",
       "| 49 | 1  |\n",
       "\n"
      ],
      "text/plain": [
       "  Velocidad Equipos\n",
       "1 47        1      \n",
       "2 37        1      \n",
       "3 53        1      \n",
       "4 56        1      \n",
       "5 42        1      \n",
       "6 49        1      "
      ]
     },
     "metadata": {},
     "output_type": "display_data"
    }
   ],
   "source": [
    "# Leemos los datos\n",
    "data<-read.table(\"data/ANOVAEA.txt\",header=T,dec=\",\",sep=\"\\t\")\n",
    "head(data)\n"
   ]
  },
  {
   "cell_type": "code",
   "execution_count": 23,
   "metadata": {},
   "outputs": [
    {
     "data": {
      "image/png": "[encoded data removed]",
      "text/plain": [
       "plot without title"
      ]
     },
     "metadata": {},
     "output_type": "display_data"
    }
   ],
   "source": [
    "# Grafica de disperción de datos\n",
    "with(data, plot(Equipos,Velocidad))"
   ]
  },
  {
   "cell_type": "code",
   "execution_count": 35,
   "metadata": {},
   "outputs": [
    {
     "data": {
      "image/png": "[encoded data removed]",
      "text/plain": [
       "plot without title"
      ]
     },
     "metadata": {},
     "output_type": "display_data"
    }
   ],
   "source": [
    "# Convertimos en Factor la variable y volvemos a graficar\n",
    "data$Equipos<-factor(data$Equipos)\n",
    "with(data, plot(Equipos,Velocidad))"
   ]
  },
  {
   "cell_type": "code",
   "execution_count": 26,
   "metadata": {},
   "outputs": [
    {
     "data": {
      "text/plain": [
       "\n",
       "Call:\n",
       "lm(formula = Velocidad ~ Equipos, data = data)\n",
       "\n",
       "Residuals:\n",
       "    Min      1Q  Median      3Q     Max \n",
       "-9.1429 -4.1429  0.4286  3.4286  9.8571 \n",
       "\n",
       "Coefficients:\n",
       "            Estimate Std. Error t value Pr(>|t|)    \n",
       "(Intercept)   46.143      2.150  21.465 2.83e-14 ***\n",
       "Equipos2      -6.571      3.040  -2.162   0.0444 *  \n",
       "Equipos3      -8.571      3.040  -2.819   0.0114 *  \n",
       "---\n",
       "Signif. codes:  0 '***' 0.001 '**' 0.01 '*' 0.05 '.' 0.1 ' ' 1\n",
       "\n",
       "Residual standard error: 5.688 on 18 degrees of freedom\n",
       "Multiple R-squared:  0.3259,\tAdjusted R-squared:  0.251 \n",
       "F-statistic: 4.351 on 2 and 18 DF,  p-value: 0.02874\n"
      ]
     },
     "metadata": {},
     "output_type": "display_data"
    }
   ],
   "source": [
    "# Vamos a hacerlo creando los objetos tipo modelo\n",
    "m.aov<-lm(Velocidad~Equipos,data=data)\n",
    "summary(m.aov)"
   ]
  },
  {
   "cell_type": "code",
   "execution_count": 27,
   "metadata": {},
   "outputs": [
    {
     "data": {
      "text/plain": [
       "            Df Sum Sq Mean Sq F value Pr(>F)  \n",
       "Equipos      2  281.5  140.76   4.351 0.0287 *\n",
       "Residuals   18  582.3   32.35                 \n",
       "---\n",
       "Signif. codes:  0 '***' 0.001 '**' 0.01 '*' 0.05 '.' 0.1 ' ' 1"
      ]
     },
     "metadata": {},
     "output_type": "display_data"
    }
   ],
   "source": [
    "# La ANOVA en detalle\n",
    "aov.m<-aov(m.aov)\n",
    "summary(aov.m)"
   ]
  },
  {
   "cell_type": "code",
   "execution_count": 30,
   "metadata": {},
   "outputs": [
    {
     "name": "stderr",
     "output_type": "stream",
     "text": [
      "The following objects are masked from data (pos = 3):\n",
      "\n",
      "    Equipos, Velocidad\n",
      "\n",
      "The following objects are masked from data (pos = 4):\n",
      "\n",
      "    Equipos, Velocidad\n",
      "\n",
      "The following object is masked from data (pos = 5):\n",
      "\n",
      "    Velocidad\n",
      "\n"
     ]
    },
    {
     "data": {
      "text/plain": [
       "\n",
       "\tPairwise comparisons using t tests with pooled SD \n",
       "\n",
       "data:  Velocidad and Equipos \n",
       "\n",
       "  1     2    \n",
       "2 0.089 -    \n",
       "3 0.034 0.519\n",
       "\n",
       "P value adjustment method: holm "
      ]
     },
     "metadata": {},
     "output_type": "display_data"
    }
   ],
   "source": [
    "# Test de comparación de medias:\n",
    "attach(data)\n",
    "library(stats)\n",
    "pairwise.t.test(Velocidad,Equipos)"
   ]
  },
  {
   "cell_type": "code",
   "execution_count": 31,
   "metadata": {},
   "outputs": [
    {
     "data": {
      "text/plain": [
       "  Tukey multiple comparisons of means\n",
       "    95% family-wise confidence level\n",
       "\n",
       "Fit: aov(formula = m.aov)\n",
       "\n",
       "$Equipos\n",
       "         diff        lwr        upr     p adj\n",
       "2-1 -6.571429 -14.330437  1.1875799 0.1054875\n",
       "3-1 -8.571429 -16.330437 -0.8124201 0.0291187\n",
       "3-2 -2.000000  -9.759008  5.7590085 0.7903607\n"
      ]
     },
     "metadata": {},
     "output_type": "display_data"
    }
   ],
   "source": [
    "# El test de Tukey que nos permite revisar si, efectivamente, se observan diferencias entre niveles\n",
    "tk.aov.m<-TukeyHSD(aov.m)\n",
    "tk.aov.m"
   ]
  },
  {
   "cell_type": "code",
   "execution_count": 32,
   "metadata": {},
   "outputs": [
    {
     "data": {
      "image/png": "[encoded data removed]",
      "text/plain": [
       "Plot with title \"95% family-wise confidence level\n",
       "\""
      ]
     },
     "metadata": {},
     "output_type": "display_data"
    }
   ],
   "source": [
    "# Y el gráfico\n",
    "plot(tk.aov.m)"
   ]
  },
  {
   "cell_type": "code",
   "execution_count": 33,
   "metadata": {},
   "outputs": [
    {
     "data": {
      "image/png": "[encoded data removed]",
      "text/plain": [
       "Plot with title \"\""
      ]
     },
     "metadata": {},
     "output_type": "display_data"
    },
    {
     "data": {
      "image/png": "[encoded data removed]",
      "text/plain": [
       "Plot with title \"\""
      ]
     },
     "metadata": {},
     "output_type": "display_data"
    },
    {
     "data": {
      "image/png": "[encoded data removed]",
      "text/plain": [
       "Plot with title \"\""
      ]
     },
     "metadata": {},
     "output_type": "display_data"
    },
    {
     "data": {
      "image/png": "[encoded data removed]",
      "text/plain": [
       "Plot with title \"\""
      ]
     },
     "metadata": {},
     "output_type": "display_data"
    }
   ],
   "source": [
    "plot(m.aov)"
   ]
  },
  {
   "cell_type": "markdown",
   "metadata": {},
   "source": [
    "Como podemos observar, la cantidad de equipos influye de una forma casi lineal a la velocidad. Esto nos hace inferir que la cantidad de equipos si influye de manera alta a la velocidad promedio en internet en cada equipo.\n",
    "\n",
    "En resumen, entre menos equipos se tengan conectados a internet en una misma casa, la velocidad de internet tendera a estar en la media teorica."
   ]
  },
  {
   "cell_type": "markdown",
   "metadata": {},
   "source": [
    "## Bloques"
   ]
  },
  {
   "cell_type": "markdown",
   "metadata": {},
   "source": [
    "Para el caso de diseño por bloques, se tomo como variable principal la cantidad de equipos accesando a internet y el tipo de conexión para ver como es la variación de velocidad. Por ende los datos se clasificaron de la siguiente manera:\n",
    "\n",
    "|     |  A |  B |  C |\n",
    "|-----|----|----|----|\n",
    "| 1   | 43 | 54 | 37 |\n",
    "| 2   | 37 | 48 | 38 |\n",
    "| 3   | 31 | 44 | 32 |\n"
   ]
  },
  {
   "cell_type": "code",
   "execution_count": 84,
   "metadata": {},
   "outputs": [
    {
     "data": {
      "text/html": [
       "<table>\n",
       "<thead><tr><th scope=col>Equipos</th><th scope=col>Conexion</th><th scope=col>Velocidad</th></tr></thead>\n",
       "<tbody>\n",
       "\t<tr><td>1 </td><td>A </td><td>43</td></tr>\n",
       "\t<tr><td>1 </td><td>B </td><td>54</td></tr>\n",
       "\t<tr><td>1 </td><td>C </td><td>37</td></tr>\n",
       "\t<tr><td>2 </td><td>A </td><td>37</td></tr>\n",
       "\t<tr><td>2 </td><td>B </td><td>48</td></tr>\n",
       "\t<tr><td>2 </td><td>C </td><td>38</td></tr>\n",
       "</tbody>\n",
       "</table>\n"
      ],
      "text/latex": [
       "\\begin{tabular}{r|lll}\n",
       " Equipos & Conexion & Velocidad\\\\\n",
       "\\hline\n",
       "\t 1  & A  & 43\\\\\n",
       "\t 1  & B  & 54\\\\\n",
       "\t 1  & C  & 37\\\\\n",
       "\t 2  & A  & 37\\\\\n",
       "\t 2  & B  & 48\\\\\n",
       "\t 2  & C  & 38\\\\\n",
       "\\end{tabular}\n"
      ],
      "text/markdown": [
       "\n",
       "| Equipos | Conexion | Velocidad |\n",
       "|---|---|---|\n",
       "| 1  | A  | 43 |\n",
       "| 1  | B  | 54 |\n",
       "| 1  | C  | 37 |\n",
       "| 2  | A  | 37 |\n",
       "| 2  | B  | 48 |\n",
       "| 2  | C  | 38 |\n",
       "\n"
      ],
      "text/plain": [
       "  Equipos Conexion Velocidad\n",
       "1 1       A        43       \n",
       "2 1       B        54       \n",
       "3 1       C        37       \n",
       "4 2       A        37       \n",
       "5 2       B        48       \n",
       "6 2       C        38       "
      ]
     },
     "metadata": {},
     "output_type": "display_data"
    }
   ],
   "source": [
    "# Cargamos los datos\n",
    "tabla<-read.table(\"data/Bloques.txt\",header = T,dec = \",\", sep = \"\\t\")\n",
    "head(tabla)"
   ]
  },
  {
   "cell_type": "code",
   "execution_count": 85,
   "metadata": {},
   "outputs": [
    {
     "data": {
      "text/plain": [
       "            Df Sum Sq Mean Sq F value  Pr(>F)   \n",
       "Conexion     2 306.89  153.44   35.14 0.00114 **\n",
       "Equipos      1 121.50  121.50   27.82 0.00326 **\n",
       "Residuals    5  21.83    4.37                   \n",
       "---\n",
       "Signif. codes:  0 '***' 0.001 '**' 0.01 '*' 0.05 '.' 0.1 ' ' 1"
      ]
     },
     "metadata": {},
     "output_type": "display_data"
    }
   ],
   "source": [
    "# Hagamos la prueba\n",
    "test<-aov(Velocidad~Conexion+Equipos,data=tabla)\n",
    "summary(test)"
   ]
  },
  {
   "cell_type": "code",
   "execution_count": 86,
   "metadata": {},
   "outputs": [
    {
     "data": {
      "text/plain": [
       "\n",
       "Call:\n",
       "lm(formula = Velocidad ~ Conexion + Equipos, data = tabla)\n",
       "\n",
       "Residuals:\n",
       "         1          2          3          4          5          6          7 \n",
       " 1.500e+00  8.333e-01 -3.167e+00  4.274e-15 -6.667e-01  2.333e+00 -1.500e+00 \n",
       "         8          9 \n",
       "-1.667e-01  8.333e-01 \n",
       "\n",
       "Coefficients:\n",
       "            Estimate Std. Error t value Pr(>|t|)    \n",
       "(Intercept)  46.0000     2.0897  22.013 3.59e-06 ***\n",
       "ConexionB    11.6667     1.7062   6.838  0.00102 ** \n",
       "ConexionC    -1.3333     1.7062  -0.781  0.46990    \n",
       "Equipos      -4.5000     0.8531  -5.275  0.00326 ** \n",
       "---\n",
       "Signif. codes:  0 '***' 0.001 '**' 0.01 '*' 0.05 '.' 0.1 ' ' 1\n",
       "\n",
       "Residual standard error: 2.09 on 5 degrees of freedom\n",
       "Multiple R-squared:  0.9515,\tAdjusted R-squared:  0.9224 \n",
       "F-statistic:  32.7 on 3 and 5 DF,  p-value: 0.001037\n"
      ]
     },
     "metadata": {},
     "output_type": "display_data"
    }
   ],
   "source": [
    "# El modelo\n",
    "summary(lm(Velocidad~Conexion+Equipos,data=tabla))"
   ]
  },
  {
   "cell_type": "code",
   "execution_count": 87,
   "metadata": {},
   "outputs": [
    {
     "data": {
      "image/png": "[encoded data removed]",
      "text/plain": [
       "plot without title"
      ]
     },
     "metadata": {},
     "output_type": "display_data"
    }
   ],
   "source": [
    "# Hay algo que debemos procurar mirar, la interacción\n",
    "interaction.plot(tabla$Conexion,tabla$Equipos,tabla$Velocidad,type=\"b\",col=c(2:4))"
   ]
  },
  {
   "cell_type": "code",
   "execution_count": 88,
   "metadata": {},
   "outputs": [
    {
     "data": {
      "text/plain": [
       "\n",
       "Call:\n",
       "lm(formula = Velocidad ~ Conexion:Equipos, data = tabla)\n",
       "\n",
       "Residuals:\n",
       "       1        2        3        4        5        6        7        8 \n",
       "-0.25397  5.60317 -6.18254 -0.06349  0.65079  1.07937  0.12698 -2.30159 \n",
       "       9 \n",
       " 1.34127 \n",
       "\n",
       "Coefficients:\n",
       "                  Estimate Std. Error t value Pr(>|t|)    \n",
       "(Intercept)         49.444      3.492  14.159 3.16e-05 ***\n",
       "ConexionA:Equipos   -6.190      1.833  -3.377   0.0197 *  \n",
       "ConexionB:Equipos   -1.048      1.833  -0.572   0.5924    \n",
       "ConexionC:Equipos   -6.262      1.833  -3.416   0.0189 *  \n",
       "---\n",
       "Signif. codes:  0 '***' 0.001 '**' 0.01 '*' 0.05 '.' 0.1 ' ' 1\n",
       "\n",
       "Residual standard error: 3.96 on 5 degrees of freedom\n",
       "Multiple R-squared:  0.8259,\tAdjusted R-squared:  0.7214 \n",
       "F-statistic: 7.906 on 3 and 5 DF,  p-value: 0.02411\n"
      ]
     },
     "metadata": {},
     "output_type": "display_data"
    }
   ],
   "source": [
    "summary(lm(Velocidad~Conexion:Equipos,data=tabla))"
   ]
  },
  {
   "cell_type": "markdown",
   "metadata": {},
   "source": [
    "Como podemos observar anteriormente, la conexion coaxial presenta una gran varianza entre sus datos, mientras que la conexion de fibra optica mantiene una media alta por encima de las demas conexiones. Por el lado de equipos podemos ver la baja cuantia de valores a mayor cantidad de equipos conectados, se ve una tendencia lineal entre las dos variables, es decir, se correlacionan en gran manera y ademas afectan de igual forma a la velocidad del internet"
   ]
  },
  {
   "cell_type": "markdown",
   "metadata": {},
   "source": [
    "## Diseño Factorial"
   ]
  },
  {
   "cell_type": "markdown",
   "metadata": {},
   "source": [
    "Para el caso de diseño por bloques, se tomo como variables principales el operador o empresa y el tipo de conexión para ver como es la variación de velocidad. Por ende los datos se clasificaron de la siguiente manera:\n",
    "\n",
    "|     |  A |  B |  C |\n",
    "|-----|----|----|----|\n",
    "| X   | 42 | 54 | 44 |\n",
    "| Y   | 46 | 51 | 38 |\n",
    "| Z   | 39 | 46 | 34 |"
   ]
  },
  {
   "cell_type": "code",
   "execution_count": 73,
   "metadata": {},
   "outputs": [
    {
     "data": {
      "text/html": [
       "<table>\n",
       "<thead><tr><th scope=col>Operador</th><th scope=col>Conexion</th><th scope=col>Velocidad</th></tr></thead>\n",
       "<tbody>\n",
       "\t<tr><td>X </td><td>A </td><td>42</td></tr>\n",
       "\t<tr><td>X </td><td>B </td><td>54</td></tr>\n",
       "\t<tr><td>X </td><td>C </td><td>44</td></tr>\n",
       "\t<tr><td>Y </td><td>A </td><td>46</td></tr>\n",
       "\t<tr><td>Y </td><td>B </td><td>51</td></tr>\n",
       "\t<tr><td>Y </td><td>C </td><td>38</td></tr>\n",
       "</tbody>\n",
       "</table>\n"
      ],
      "text/latex": [
       "\\begin{tabular}{r|lll}\n",
       " Operador & Conexion & Velocidad\\\\\n",
       "\\hline\n",
       "\t X  & A  & 42\\\\\n",
       "\t X  & B  & 54\\\\\n",
       "\t X  & C  & 44\\\\\n",
       "\t Y  & A  & 46\\\\\n",
       "\t Y  & B  & 51\\\\\n",
       "\t Y  & C  & 38\\\\\n",
       "\\end{tabular}\n"
      ],
      "text/markdown": [
       "\n",
       "| Operador | Conexion | Velocidad |\n",
       "|---|---|---|\n",
       "| X  | A  | 42 |\n",
       "| X  | B  | 54 |\n",
       "| X  | C  | 44 |\n",
       "| Y  | A  | 46 |\n",
       "| Y  | B  | 51 |\n",
       "| Y  | C  | 38 |\n",
       "\n"
      ],
      "text/plain": [
       "  Operador Conexion Velocidad\n",
       "1 X        A        42       \n",
       "2 X        B        54       \n",
       "3 X        C        44       \n",
       "4 Y        A        46       \n",
       "5 Y        B        51       \n",
       "6 Y        C        38       "
      ]
     },
     "metadata": {},
     "output_type": "display_data"
    }
   ],
   "source": [
    "# Cargamos los datos\n",
    "tabla<-read.table(\"data/Factorial.txt\",header = T,dec = \",\", sep = \"\\t\")\n",
    "head(tabla)"
   ]
  },
  {
   "cell_type": "code",
   "execution_count": 74,
   "metadata": {},
   "outputs": [
    {
     "data": {
      "text/plain": [
       "            Df Sum Sq Mean Sq F value Pr(>F)  \n",
       "Conexion     2 213.56  106.78  15.376 0.0132 *\n",
       "Operador     2  80.22   40.11   5.776 0.0662 .\n",
       "Residuals    4  27.78    6.94                 \n",
       "---\n",
       "Signif. codes:  0 '***' 0.001 '**' 0.01 '*' 0.05 '.' 0.1 ' ' 1"
      ]
     },
     "metadata": {},
     "output_type": "display_data"
    }
   ],
   "source": [
    "# Hagamos la prueba\n",
    "test<-aov(Velocidad~Conexion+Operador,data=tabla)\n",
    "summary(test)"
   ]
  },
  {
   "cell_type": "code",
   "execution_count": 75,
   "metadata": {},
   "outputs": [
    {
     "data": {
      "text/plain": [
       "\n",
       "Call:\n",
       "lm(formula = Velocidad ~ Conexion + Operador, data = tabla)\n",
       "\n",
       "Residuals:\n",
       "      1       2       3       4       5       6       7       8       9 \n",
       "-3.2222  0.7778  2.4444  2.4444 -0.5556 -1.8889  0.7778 -0.2222 -0.5556 \n",
       "\n",
       "Coefficients:\n",
       "            Estimate Std. Error t value Pr(>|t|)    \n",
       "(Intercept)   45.222      1.964  23.023 2.11e-05 ***\n",
       "ConexionB      8.000      2.152   3.718   0.0205 *  \n",
       "ConexionC     -3.667      2.152  -1.704   0.1636    \n",
       "OperadorY     -1.667      2.152  -0.775   0.4818    \n",
       "OperadorZ     -7.000      2.152  -3.253   0.0313 *  \n",
       "---\n",
       "Signif. codes:  0 '***' 0.001 '**' 0.01 '*' 0.05 '.' 0.1 ' ' 1\n",
       "\n",
       "Residual standard error: 2.635 on 4 degrees of freedom\n",
       "Multiple R-squared:  0.9136,\tAdjusted R-squared:  0.8272 \n",
       "F-statistic: 10.58 on 4 and 4 DF,  p-value: 0.0211\n"
      ]
     },
     "metadata": {},
     "output_type": "display_data"
    }
   ],
   "source": [
    "# El modelo\n",
    "summary(lm(Velocidad~Conexion+Operador,data=tabla))"
   ]
  },
  {
   "cell_type": "code",
   "execution_count": 76,
   "metadata": {},
   "outputs": [
    {
     "data": {
      "image/png": "[encoded data removed]",
      "text/plain": [
       "plot without title"
      ]
     },
     "metadata": {},
     "output_type": "display_data"
    }
   ],
   "source": [
    "# Hay algo que debemos procurar mirar, la interacción\n",
    "interaction.plot(tabla$Conexion,tabla$Operador,tabla$Velocidad,type=\"b\",col=c(2:4))"
   ]
  },
  {
   "cell_type": "code",
   "execution_count": 77,
   "metadata": {},
   "outputs": [
    {
     "data": {
      "text/plain": [
       "\n",
       "Call:\n",
       "lm(formula = Velocidad ~ Conexion:Operador, data = tabla)\n",
       "\n",
       "Residuals:\n",
       "ALL 9 residuals are 0: no residual degrees of freedom!\n",
       "\n",
       "Coefficients: (1 not defined because of singularities)\n",
       "                    Estimate Std. Error t value Pr(>|t|)\n",
       "(Intercept)               34         NA      NA       NA\n",
       "ConexionA:OperadorX        8         NA      NA       NA\n",
       "ConexionB:OperadorX       20         NA      NA       NA\n",
       "ConexionC:OperadorX       10         NA      NA       NA\n",
       "ConexionA:OperadorY       12         NA      NA       NA\n",
       "ConexionB:OperadorY       17         NA      NA       NA\n",
       "ConexionC:OperadorY        4         NA      NA       NA\n",
       "ConexionA:OperadorZ        5         NA      NA       NA\n",
       "ConexionB:OperadorZ       12         NA      NA       NA\n",
       "ConexionC:OperadorZ       NA         NA      NA       NA\n",
       "\n",
       "Residual standard error: NaN on 0 degrees of freedom\n",
       "Multiple R-squared:      1,\tAdjusted R-squared:    NaN \n",
       "F-statistic:   NaN on 8 and 0 DF,  p-value: NA\n"
      ]
     },
     "metadata": {},
     "output_type": "display_data"
    }
   ],
   "source": [
    "summary(lm(Velocidad~Conexion:Operador,data=tabla))"
   ]
  },
  {
   "cell_type": "markdown",
   "metadata": {},
   "source": [
    "Analizando la grafica y las tablas de significancia, se nota como la diferencia entre operadores no es tan relevante a la hora de elegir una opcion, ademas de ello vemos que entre ambas variables no existe una corelación fuerte.\n",
    "\n",
    "En resumen las dos variables son poco correlacionables entre si ademas que, la variable operador no muestra gran influencia en el resultado de la velocidad."
   ]
  },
  {
   "cell_type": "markdown",
   "metadata": {},
   "source": [
    "## Cuadrado Latino"
   ]
  },
  {
   "cell_type": "markdown",
   "metadata": {},
   "source": [
    "Para el caso de Cuadrado Latino separamos los datos de esta forma en la cual se encuentra la media para cada factor.\n",
    "\n",
    "| Empresa  | 1  | 2  | 3  | \n",
    "|----------|----|----|----|\n",
    "| X        | A  | B  | C  | \n",
    "| _        | 43 | 53 | 39 | \n",
    "| Y        | B  | C  | A  | \n",
    "| _        | 55 | 41 | 42 | \n",
    "| Z        | C  | A  | B  |\n",
    "| _        | 45 | 43 | 48 |"
   ]
  },
  {
   "cell_type": "code",
   "execution_count": 78,
   "metadata": {},
   "outputs": [
    {
     "data": {
      "text/html": [
       "<table>\n",
       "<thead><tr><th scope=col>Conexion</th><th scope=col>Operador</th><th scope=col>Equipos</th><th scope=col>Velocidad</th></tr></thead>\n",
       "<tbody>\n",
       "\t<tr><td>A </td><td>X </td><td>1 </td><td>43</td></tr>\n",
       "\t<tr><td>A </td><td>Y </td><td>3 </td><td>42</td></tr>\n",
       "\t<tr><td>A </td><td>Z </td><td>2 </td><td>43</td></tr>\n",
       "\t<tr><td>B </td><td>X </td><td>2 </td><td>53</td></tr>\n",
       "\t<tr><td>B </td><td>Y </td><td>1 </td><td>55</td></tr>\n",
       "\t<tr><td>B </td><td>Z </td><td>3 </td><td>48</td></tr>\n",
       "</tbody>\n",
       "</table>\n"
      ],
      "text/latex": [
       "\\begin{tabular}{r|llll}\n",
       " Conexion & Operador & Equipos & Velocidad\\\\\n",
       "\\hline\n",
       "\t A  & X  & 1  & 43\\\\\n",
       "\t A  & Y  & 3  & 42\\\\\n",
       "\t A  & Z  & 2  & 43\\\\\n",
       "\t B  & X  & 2  & 53\\\\\n",
       "\t B  & Y  & 1  & 55\\\\\n",
       "\t B  & Z  & 3  & 48\\\\\n",
       "\\end{tabular}\n"
      ],
      "text/markdown": [
       "\n",
       "| Conexion | Operador | Equipos | Velocidad |\n",
       "|---|---|---|---|\n",
       "| A  | X  | 1  | 43 |\n",
       "| A  | Y  | 3  | 42 |\n",
       "| A  | Z  | 2  | 43 |\n",
       "| B  | X  | 2  | 53 |\n",
       "| B  | Y  | 1  | 55 |\n",
       "| B  | Z  | 3  | 48 |\n",
       "\n"
      ],
      "text/plain": [
       "  Conexion Operador Equipos Velocidad\n",
       "1 A        X        1       43       \n",
       "2 A        Y        3       42       \n",
       "3 A        Z        2       43       \n",
       "4 B        X        2       53       \n",
       "5 B        Y        1       55       \n",
       "6 B        Z        3       48       "
      ]
     },
     "metadata": {},
     "output_type": "display_data"
    }
   ],
   "source": [
    "# Cargamos los datos\n",
    "tabla<-read.table(\"data/CL.txt\",header = T,dec = \",\", sep = \"\\t\")\n",
    "head(tabla)"
   ]
  },
  {
   "cell_type": "code",
   "execution_count": 79,
   "metadata": {},
   "outputs": [
    {
     "name": "stderr",
     "output_type": "stream",
     "text": [
      "The following objects are masked _by_ .GlobalEnv:\n",
      "\n",
      "    Equipos, Operador\n",
      "\n",
      "The following objects are masked from tabla (pos = 3):\n",
      "\n",
      "    Conexion, Equipos, Operador, Velocidad\n",
      "\n",
      "The following objects are masked from tabla (pos = 4):\n",
      "\n",
      "    Conexion, Equipos, Operador, Velocidad\n",
      "\n",
      "The following objects are masked from data (pos = 5):\n",
      "\n",
      "    Equipos, Velocidad\n",
      "\n",
      "The following objects are masked from data (pos = 6):\n",
      "\n",
      "    Equipos, Velocidad\n",
      "\n",
      "The following objects are masked from data (pos = 7):\n",
      "\n",
      "    Equipos, Velocidad\n",
      "\n",
      "The following objects are masked from data (pos = 8):\n",
      "\n",
      "    Conexion, Velocidad\n",
      "\n"
     ]
    },
    {
     "data": {
      "text/html": [
       "TRUE"
      ],
      "text/latex": [
       "TRUE"
      ],
      "text/markdown": [
       "TRUE"
      ],
      "text/plain": [
       "[1] TRUE"
      ]
     },
     "metadata": {},
     "output_type": "display_data"
    }
   ],
   "source": [
    "# Convirtamos en factor los número de Material y Operario\n",
    "attach(tabla)\n",
    "Operador<-as.factor(Operador)\n",
    "Equipos<-as.factor(Equipos)\n",
    "is.factor(Conexion)"
   ]
  },
  {
   "cell_type": "code",
   "execution_count": 80,
   "metadata": {},
   "outputs": [
    {
     "data": {
      "text/plain": [
       "            Df Sum Sq Mean Sq F value Pr(>F)  \n",
       "Operador     2   1.56    0.78   0.143 0.8750  \n",
       "Equipos      2  32.89   16.44   3.020 0.2487  \n",
       "Conexion     2 194.89   97.44  17.898 0.0529 .\n",
       "Residuals    2  10.89    5.44                 \n",
       "---\n",
       "Signif. codes:  0 '***' 0.001 '**' 0.01 '*' 0.05 '.' 0.1 ' ' 1"
      ]
     },
     "metadata": {},
     "output_type": "display_data"
    }
   ],
   "source": [
    "# El modelo\n",
    "model1<-aov(Velocidad~Operador+Equipos+Conexion)\n",
    "summary(model1)"
   ]
  },
  {
   "cell_type": "code",
   "execution_count": 81,
   "metadata": {},
   "outputs": [
    {
     "data": {
      "text/plain": [
       "Tables of means\n",
       "Grand mean\n",
       "         \n",
       "45.44444 \n",
       "\n",
       " Operador \n",
       "Operador\n",
       "   X     Y     Z  \n",
       "45.00 46.00 45.33 \n",
       "\n",
       " Equipos \n",
       "Equipos\n",
       "    1     2     3 \n",
       "47.67 45.67 43.00 \n",
       "\n",
       " Conexion \n",
       "Conexion\n",
       "   A     B     C  \n",
       "42.67 52.00 41.67 "
      ]
     },
     "metadata": {},
     "output_type": "display_data"
    }
   ],
   "source": [
    "# Las tablas de medias\n",
    "model.tables(model1, \"mean\")"
   ]
  },
  {
   "cell_type": "code",
   "execution_count": 82,
   "metadata": {},
   "outputs": [
    {
     "data": {
      "text/plain": [
       "  Tukey multiple comparisons of means\n",
       "    95% family-wise confidence level\n",
       "\n",
       "Fit: aov(formula = Velocidad ~ Operador + Equipos + Conexion)\n",
       "\n",
       "$Operador\n",
       "            diff       lwr      upr     p adj\n",
       "Y -X   1.0000000 -10.22282 12.22282 0.8682481\n",
       "Z -X   0.3333333 -10.88949 11.55615 0.9834048\n",
       "Z -Y  -0.6666667 -11.88949 10.55615 0.9367883\n",
       "\n",
       "$Equipos\n",
       "         diff       lwr      upr     p adj\n",
       "2-1 -2.000000 -13.22282 9.222819 0.6227159\n",
       "3-1 -4.666667 -15.88949 6.556152 0.2331330\n",
       "3-2 -2.666667 -13.88949 8.556152 0.4816971\n",
       "\n",
       "$Conexion\n",
       "            diff        lwr        upr     p adj\n",
       "B -A    9.333333  -1.889486 20.5561523 0.0707078\n",
       "C -A   -1.000000 -12.222819 10.2228189 0.8682481\n",
       "C -B  -10.333333 -21.556152  0.8894856 0.0584504\n"
      ]
     },
     "metadata": {},
     "output_type": "display_data"
    },
    {
     "data": {
      "image/png": "[encoded data removed]",
      "text/plain": [
       "Plot with title \"95% family-wise confidence level\n",
       "\""
      ]
     },
     "metadata": {},
     "output_type": "display_data"
    },
    {
     "data": {
      "image/png": "[encoded data removed]",
      "text/plain": [
       "Plot with title \"95% family-wise confidence level\n",
       "\""
      ]
     },
     "metadata": {},
     "output_type": "display_data"
    },
    {
     "data": {
      "image/png": "[encoded data removed]",
      "text/plain": [
       "Plot with title \"95% family-wise confidence level\n",
       "\""
      ]
     },
     "metadata": {},
     "output_type": "display_data"
    }
   ],
   "source": [
    "# La prueba de Tukey\n",
    "TukeyHSD(model1)\n",
    "plot(TukeyHSD(model1))"
   ]
  },
  {
   "cell_type": "markdown",
   "metadata": {},
   "source": [
    "Para terminar la pruebas sobre el ejercicio, estas ultimas graficas muestran la relacion global entre las variables propuestas inicialmente. A lo largo del desarrollo de este ejercicio se pudo observar como era la relacion entre variables de forma unica, juntas y ahora ene sta ultima entre todas. Como conclusion se puede ver que las empresas aportan un servicio casi igual, y que lo mas importante es tipo de conexion y la cantidad de equipos abscritos a este servicio por casa."
   ]
  },
  {
   "cell_type": "code",
   "execution_count": null,
   "metadata": {},
   "outputs": [],
   "source": []
  },
  {
   "cell_type": "code",
   "execution_count": null,
   "metadata": {},
   "outputs": [],
   "source": []
  }
 ],
 "metadata": {
  "kernelspec": {
   "display_name": "R",
   "language": "R",
   "name": "ir"
  },
  "language_info": {
   "codemirror_mode": "r",
   "file_extension": ".r",
   "mimetype": "text/x-r-source",
   "name": "R",
   "pygments_lexer": "r",
   "version": "3.6.1"
  }
 },
 "nbformat": 4,
 "nbformat_minor": 4
}
